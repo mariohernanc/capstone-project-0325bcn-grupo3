{
  "cells": [
    {
      "cell_type": "markdown",
      "metadata": {
        "id": "513i7nszk62S"
      },
      "source": [
        "# DSMarket - First look at input files"
      ]
    },
    {
      "cell_type": "code",
      "source": [
        "# Instalamos libreria gdown para obtener los archivos origenes de google drive.\n",
        "!pip install gdown"
      ],
      "metadata": {
        "id": "bTMcE-2WoF-a"
      },
      "execution_count": null,
      "outputs": []
    },
    {
      "cell_type": "markdown",
      "metadata": {
        "id": "anyXcUL6k62X"
      },
      "source": [
        "## 1. Importing libraries"
      ]
    },
    {
      "cell_type": "code",
      "execution_count": null,
      "metadata": {
        "id": "B2oc0t3Ok62Z"
      },
      "outputs": [],
      "source": [
        "import numpy as np\n",
        "import pandas as pd\n",
        "import gdown\n",
        "\n",
        "pd.options.display.float_format = '{:,.2f}'.format\n",
        "pd.set_option('display.max_rows', 500)\n",
        "pd.set_option('display.max_columns', 500)"
      ]
    },
    {
      "cell_type": "markdown",
      "metadata": {
        "id": "5kGwS3Qak62c"
      },
      "source": [
        "## 2. Paths and directories"
      ]
    },
    {
      "cell_type": "code",
      "source": [
        "sales_data_path = \"https://drive.google.com/uc?id=1sbXj2mTiaHJC_1hU_blmDiU4sxy53-kN\"\n",
        "sales_file = \"item_sales.csv\"\n",
        "calendar_data_path = \"https://drive.google.com/uc?id=1NIqmTAKSoN3mN5MUbs-K5WXv-10srHPR\"\n",
        "calendar_file = \"daily_calendar_with_events.csv\"\n",
        "prices_data_path = \"https://drive.google.com/uc?id=1JHVZJ9eeqtGxPWs3vF3beEnuGVY2o8Ed\"\n",
        "prices_file = \"item_prices.csv\""
      ],
      "metadata": {
        "id": "2bc-Uvq2pbha"
      },
      "execution_count": null,
      "outputs": []
    },
    {
      "cell_type": "markdown",
      "metadata": {
        "id": "70UVwozVk62g"
      },
      "source": [
        "\n",
        "## 3. Import files"
      ]
    },
    {
      "cell_type": "markdown",
      "metadata": {
        "id": "BtHo42Wsk62i"
      },
      "source": [
        "### 3A. Sales data"
      ]
    },
    {
      "cell_type": "code",
      "source": [
        "gdown.download(sales_data_path, sales_file, quiet=False)\n",
        "pd_sales = pd.read_csv(sales_file)"
      ],
      "metadata": {
        "id": "i-siVsBztnnT"
      },
      "execution_count": null,
      "outputs": []
    },
    {
      "cell_type": "code",
      "execution_count": null,
      "metadata": {
        "id": "bjgRAPrxk62k"
      },
      "outputs": [],
      "source": [
        "print(\"The shape of the sales datataframe is :\", pd_sales.shape)"
      ]
    },
    {
      "cell_type": "code",
      "execution_count": null,
      "metadata": {
        "id": "QTvusGHPk62n"
      },
      "outputs": [],
      "source": [
        "pd_sales.head()"
      ]
    },
    {
      "cell_type": "code",
      "source": [
        "pd_sales['store_code'].unique()"
      ],
      "metadata": {
        "id": "XflpP899NZmr"
      },
      "execution_count": null,
      "outputs": []
    },
    {
      "cell_type": "code",
      "execution_count": null,
      "metadata": {
        "id": "aKZ3sqvpk62p"
      },
      "outputs": [],
      "source": [
        "pd_sales.info(verbose=True)"
      ]
    },
    {
      "cell_type": "markdown",
      "metadata": {
        "id": "Wyt9JMsDk62r"
      },
      "source": [
        "How many **stores** are there in the data?"
      ]
    },
    {
      "cell_type": "code",
      "execution_count": null,
      "metadata": {
        "id": "QezvhPu4k62s"
      },
      "outputs": [],
      "source": [
        "print(\"There are {} stores in the data, and the number of registers per store are: \".format(pd_sales.store.nunique()))\n",
        "pd_sales.store.value_counts()"
      ]
    },
    {
      "cell_type": "markdown",
      "metadata": {
        "id": "hj-xay2Ck62t"
      },
      "source": [
        "How many **departments**?"
      ]
    },
    {
      "cell_type": "code",
      "execution_count": null,
      "metadata": {
        "id": "3RSlWCDWk62v"
      },
      "outputs": [],
      "source": [
        "print(\"There are {} departments in the data, and the number of registers per department are: \".format(pd_sales.item.nunique()))\n",
        "pd_sales.item.value_counts()"
      ]
    },
    {
      "cell_type": "markdown",
      "metadata": {
        "id": "eqaQRGQyk62w"
      },
      "source": [
        "And **items**?"
      ]
    },
    {
      "cell_type": "code",
      "execution_count": null,
      "metadata": {
        "id": "rVcyGFgJk62w"
      },
      "outputs": [],
      "source": [
        "print(\"There are {} departments in the data, and the number of registers per item are: \".format(pd_sales.department.nunique()))\n",
        "pd_sales.department.value_counts()"
      ]
    },
    {
      "cell_type": "markdown",
      "metadata": {
        "id": "yNM7nXtwk62x"
      },
      "source": [
        "Do we have one register per id? In other words, can two registers have the same id?"
      ]
    },
    {
      "cell_type": "code",
      "execution_count": null,
      "metadata": {
        "id": "aqzH5l1Xk62y"
      },
      "outputs": [],
      "source": [
        "print(pd_sales.shape)\n",
        "print(pd_sales.id.drop_duplicates().shape)"
      ]
    },
    {
      "cell_type": "code",
      "execution_count": null,
      "metadata": {
        "id": "hAewimjuk620"
      },
      "outputs": [],
      "source": [
        "pd_sales[pd_sales.id == 'ACCESORIES_1_002_NYC_1'].T"
      ]
    },
    {
      "cell_type": "markdown",
      "metadata": {
        "id": "0R2snqtgk621"
      },
      "source": [
        "### 3B. Calendar data"
      ]
    },
    {
      "cell_type": "code",
      "source": [
        "gdown.download(calendar_data_path, calendar_file, quiet=False)\n",
        "pd_calendar = pd.read_csv(calendar_file)"
      ],
      "metadata": {
        "id": "UVE4fAzRqz0I"
      },
      "execution_count": null,
      "outputs": []
    },
    {
      "cell_type": "code",
      "execution_count": null,
      "metadata": {
        "id": "_d4xNQTKk622"
      },
      "outputs": [],
      "source": [
        "print(\"The shape of the calendar datataframe is :\", pd_calendar.shape)"
      ]
    },
    {
      "cell_type": "code",
      "execution_count": null,
      "metadata": {
        "id": "tX3Sunquk623"
      },
      "outputs": [],
      "source": [
        "pd_calendar.head()"
      ]
    },
    {
      "cell_type": "code",
      "execution_count": null,
      "metadata": {
        "id": "r_VVYatnk625"
      },
      "outputs": [],
      "source": [
        "pd_calendar.info(verbose=True)"
      ]
    },
    {
      "cell_type": "code",
      "execution_count": null,
      "metadata": {
        "id": "q5OUAtrTk627"
      },
      "outputs": [],
      "source": [
        "print(\"The range of dates available are: {} - {}\".format(pd_calendar['date'].min(),pd_calendar['date'].max()))"
      ]
    },
    {
      "cell_type": "markdown",
      "metadata": {
        "id": "4FOsA7zQk627"
      },
      "source": [
        "What sort of events do we have?"
      ]
    },
    {
      "cell_type": "code",
      "execution_count": null,
      "metadata": {
        "id": "ycH23OnJk628"
      },
      "outputs": [],
      "source": [
        "pd_calendar.event.value_counts()"
      ]
    },
    {
      "cell_type": "markdown",
      "metadata": {
        "id": "8zRMqtNFk62-"
      },
      "source": [
        "We don't have a lot of events, but we can think about including additional ones in a later stage (it might help!)"
      ]
    },
    {
      "cell_type": "markdown",
      "metadata": {
        "id": "dByOrZF4k62_"
      },
      "source": [
        "### 3C. Prices data"
      ]
    },
    {
      "cell_type": "code",
      "source": [
        "gdown.download(prices_data_path, prices_file, quiet=False)\n",
        "pd_prices = pd.read_csv(prices_file)"
      ],
      "metadata": {
        "id": "OJFfSNVBrNjB"
      },
      "execution_count": null,
      "outputs": []
    },
    {
      "cell_type": "code",
      "execution_count": null,
      "metadata": {
        "id": "bvcmvlquk63A"
      },
      "outputs": [],
      "source": [
        "print(\"The shape of the prices datataframe is :\", pd_prices.shape)"
      ]
    },
    {
      "cell_type": "code",
      "execution_count": null,
      "metadata": {
        "id": "tY8yDjesk63B"
      },
      "outputs": [],
      "source": [
        "pd_prices.head()"
      ]
    },
    {
      "cell_type": "code",
      "execution_count": null,
      "metadata": {
        "id": "2MB5wVn0k63C"
      },
      "outputs": [],
      "source": [
        "pd_prices.info(verbose=True)"
      ]
    },
    {
      "cell_type": "markdown",
      "metadata": {
        "id": "ZkBZkYijk63D"
      },
      "source": [
        "Same number of items in the prices data?"
      ]
    },
    {
      "cell_type": "code",
      "execution_count": null,
      "metadata": {
        "id": "jj58A8eek63E"
      },
      "outputs": [],
      "source": [
        "print(\"There are {} items in the data, and the number of registers per item are: \".format(pd_prices.item.nunique()))\n",
        "pd_prices.item.value_counts()"
      ]
    },
    {
      "cell_type": "markdown",
      "metadata": {
        "id": "7t5o57R3k63F"
      },
      "source": [
        "The number of items does match, but there are many registers per item. It seems that prices per item can change with time"
      ]
    },
    {
      "cell_type": "markdown",
      "metadata": {
        "id": "T-Nlu4JIk63G"
      },
      "source": [
        "Let's take a loook at the variables distribution of the prices dataframe"
      ]
    },
    {
      "cell_type": "code",
      "execution_count": null,
      "metadata": {
        "id": "BkGmgwmnk63H"
      },
      "outputs": [],
      "source": [
        "pd_prices.describe()"
      ]
    },
    {
      "cell_type": "code",
      "execution_count": null,
      "metadata": {
        "id": "7TxiVTU1k63I"
      },
      "outputs": [],
      "source": [
        "pd_prices.describe(include=['object'])"
      ]
    },
    {
      "cell_type": "code",
      "execution_count": null,
      "metadata": {
        "id": "Aws8KxFsk63I"
      },
      "outputs": [],
      "source": [
        "pd_calendar.head()"
      ]
    },
    {
      "cell_type": "code",
      "execution_count": null,
      "metadata": {
        "id": "mdns8ax-k63J"
      },
      "outputs": [],
      "source": [
        "from datetime import datetime, timedelta\n",
        "def weekyearnum(dt):\n",
        "    return dt.strftime(\"%Y%W\")\n",
        "\n",
        "def myweeyearknum(dt):\n",
        "    offsetdt = dt + timedelta(days=+2);  # you add 3 days to Mon to get to Thu\n",
        "    return weekyearnum(offsetdt)\n",
        "\n",
        "def weeknum(dt):\n",
        "    return dt.isocalendar()[1]\n",
        "\n",
        "def myweeknum(dt):\n",
        "    offsetdt = dt + timedelta(days=+2);  # you add 3 days to Mon to get to Thu\n",
        "    return weeknum(offsetdt)"
      ]
    },
    {
      "cell_type": "code",
      "execution_count": null,
      "metadata": {
        "id": "Wgsoidq3k63M"
      },
      "outputs": [],
      "source": [
        "## Merge\n",
        "pd_calendar['date'] = pd.to_datetime(pd_calendar['date'], format = \"%Y-%m-%d\")\n",
        "\n",
        "pd_calendar['yearweek'] = pd_calendar['date'].apply(lambda x: myweeyearknum(x))"
      ]
    },
    {
      "cell_type": "code",
      "execution_count": null,
      "metadata": {
        "id": "hZVFvq7Bk63N"
      },
      "outputs": [],
      "source": [
        "pd_calendar"
      ]
    },
    {
      "cell_type": "code",
      "execution_count": null,
      "metadata": {
        "id": "Q9sf3Cs0k63Q"
      },
      "outputs": [],
      "source": [
        "pd_calendar['yearweek'] = pd_calendar['yearweek'].astype(float)\n",
        "pd_merge = pd.merge(pd_prices,pd_calendar[['d','yearweek']], how=\"left\",\n",
        "                   left_on = 'yearweek', right_on = 'yearweek')\n",
        "\n",
        "pd_merge.info()"
      ]
    },
    {
      "cell_type": "code",
      "execution_count": null,
      "metadata": {
        "id": "bBQTRqDvk63R"
      },
      "outputs": [],
      "source": [
        "pd_sales.set_index(['id','item','category','department','store','store_code','region']).head()"
      ]
    },
    {
      "cell_type": "code",
      "execution_count": null,
      "metadata": {
        "id": "bUz_sAGNk63R"
      },
      "outputs": [],
      "source": [
        "pd_calendar"
      ]
    },
    {
      "cell_type": "code",
      "source": [
        "pd_sales['region'].unique()"
      ],
      "metadata": {
        "id": "ZzmXJduHURLq"
      },
      "execution_count": null,
      "outputs": []
    },
    {
      "cell_type": "code",
      "source": [
        "# 1. Obtener columnas de días (asegúrate de que sean string para comparar)\n",
        "day_columns = pd_sales.loc[:, 'd_1':].columns.tolist()\n",
        "\n",
        "# 2. Filtrar el calendario solo a los días presentes en pd_sales\n",
        "filtered_calendar = pd_calendar[pd_calendar['d'].isin(day_columns)].copy()\n",
        "\n",
        "# 3. Reordenar el calendario según el orden de las columnas en pd_sales\n",
        "filtered_calendar = filtered_calendar.set_index('d').loc[day_columns].reset_index()\n",
        "\n",
        "# 4. Calcular ventas por región para las columnas de días\n",
        "sales_ny = pd_sales[pd_sales['region'] == 'New York'].loc[:, day_columns].sum(axis=0)\n",
        "sales_bo = pd_sales[pd_sales['region'] == 'Boston'].loc[:, day_columns].sum(axis=0)\n",
        "sales_ph = pd_sales[pd_sales['region'] == 'Philadelphia'].loc[:, day_columns].sum(axis=0)\n",
        "\n",
        "# 5. Convertir esas series a DataFrame y agregar columna 'd'\n",
        "state_sales_df = pd.DataFrame({\n",
        "    'd': day_columns,\n",
        "    'sales_ny': sales_ny.values,\n",
        "    'sales_bo': sales_bo.values,\n",
        "    'sales_ph': sales_ph.values\n",
        "})\n",
        "\n",
        "# 6. Merge con calendario por columna 'd'\n",
        "state_sales_df = state_sales_df.merge(filtered_calendar, on='d', how='left')\n",
        "state_sales_df.drop(columns=['d', 'weekday', 'event'], inplace=True)"
      ],
      "metadata": {
        "id": "MUH9GTAEX6q6"
      },
      "execution_count": null,
      "outputs": []
    },
    {
      "cell_type": "code",
      "source": [
        "state_sales_df"
      ],
      "metadata": {
        "id": "YigZ8Z43cLjy"
      },
      "execution_count": null,
      "outputs": []
    },
    {
      "cell_type": "code",
      "source": [
        "# from pyspark.sql import SparkSession\n",
        "# from pyspark.sql.functions import expr, col\n",
        "\n",
        "# spark = SparkSession.builder.appName(\"SalesProcessing\").getOrCreate()\n",
        "\n",
        "# # Leer datos\n",
        "# sales_df = spark.createDataFrame(pd_sales)\n",
        "# calendar_df = spark.createDataFrame(pd_calendar)\n",
        "# prices_df = spark.createDataFrame(pd_prices)\n",
        "\n",
        "# # Convertir de wide a long usando 'stack'\n",
        "# num_days = 1913  # o el número de columnas d_*\n",
        "# stack_expr = \", \".join([f\"'d_{i}', d_{i}\" for i in range(1, num_days + 1)])\n",
        "# sales_long = sales_df.selectExpr(\n",
        "#     \"id\", \"item\", \"category\", \"department\", \"store\", \"store_code\", \"region\",\n",
        "#     f\"stack({num_days}, {stack_expr}) as (d, qty_sell)\"\n",
        "# )\n",
        "\n",
        "# # Unir con calendario\n",
        "# sales_long = sales_long.join(calendar_df.select(\"d\", \"date\", \"yearweek\"), on=\"d\", how=\"left\")\n",
        "\n",
        "# # Unir con precios\n",
        "# sales_long = sales_long.join(\n",
        "#     prices_df,\n",
        "#     on=[\"item\", \"category\", \"store_code\", \"yearweek\"],\n",
        "#     how=\"left\"\n",
        "# )\n",
        "\n",
        "# # Calcular total vendido\n",
        "# sales_long = sales_long.withColumn(\"total_sell\", col(\"qty_sell\") * col(\"sell_price\"))\n",
        "\n",
        "# # Guardar resultado\n",
        "# #sales_long.write.parquet(\"final_sales.parquet\", mode=\"overwrite\")\n"
      ],
      "metadata": {
        "id": "GOeKt-VylsFo"
      },
      "execution_count": null,
      "outputs": []
    },
    {
      "cell_type": "code",
      "source": [
        "# # Filtrar qty_sell para que seleccione registros mayores que 0\n",
        "\n",
        "# sales_long = sales_long.filter(col(\"qty_sell\") > 0)"
      ],
      "metadata": {
        "id": "dnwCUjVdsmtR"
      },
      "execution_count": null,
      "outputs": []
    },
    {
      "cell_type": "code",
      "execution_count": null,
      "metadata": {
        "id": "0yBj9PDsk63W"
      },
      "outputs": [],
      "source": [
        "# sales_long.show()"
      ]
    }
  ],
  "metadata": {
    "kernelspec": {
      "display_name": "Python 3",
      "language": "python",
      "name": "python3"
    },
    "language_info": {
      "codemirror_mode": {
        "name": "ipython",
        "version": 3
      },
      "file_extension": ".py",
      "mimetype": "text/x-python",
      "name": "python",
      "nbconvert_exporter": "python",
      "pygments_lexer": "ipython3",
      "version": "3.8.5"
    },
    "colab": {
      "provenance": []
    }
  },
  "nbformat": 4,
  "nbformat_minor": 0
}
