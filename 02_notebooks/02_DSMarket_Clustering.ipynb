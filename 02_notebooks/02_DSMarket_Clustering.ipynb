{
 "cells": [
  {
   "cell_type": "markdown",
   "id": "efe7a368-7a3b-45e9-bb6f-28f59e51b162",
   "metadata": {},
   "source": [
    "# DSMarket - Clustering"
   ]
  },
  {
   "cell_type": "markdown",
   "id": "59a90bb3-1055-42a5-ad38-1d116fd15928",
   "metadata": {},
   "source": [
    "### 1. Instalacion de paquetes "
   ]
  },
  {
   "cell_type": "code",
   "execution_count": null,
   "id": "1e67a0ce-a662-4029-9b7d-9fb5e3b4f5a7",
   "metadata": {
    "scrolled": true
   },
   "outputs": [],
   "source": [
    "!pip install seaborn\n",
    "!pip install scikit-learn"
   ]
  },
  {
   "cell_type": "markdown",
   "id": "c727d054-4d73-4c0a-8b11-a182fc5bd6c7",
   "metadata": {},
   "source": [
    "## 2. Importacion de librerias"
   ]
  },
  {
   "cell_type": "code",
   "execution_count": null,
   "id": "782fb2b8-5b17-4ac4-b384-0865ad92dbb8",
   "metadata": {},
   "outputs": [],
   "source": [
    "# silence warnings\n",
    "import warnings\n",
    "warnings.filterwarnings(\"ignore\")\n",
    "\n",
    "# operating system\n",
    "import os\n",
    "\n",
    "# time calculation to track some processes\n",
    "import time\n",
    "\n",
    "# numeric and matrix operations\n",
    "import numpy as np\n",
    "import pandas as pd\n",
    "\n",
    "# loading ploting libraries\n",
    "import matplotlib.pyplot as plt\n",
    "import seaborn as sns\n",
    "%matplotlib inline\n",
    "\n",
    "# python core library for machine learning and data science\n",
    "import sklearn\n",
    "from sklearn import set_config\n",
    "set_config(transform_output = \"pandas\")\n",
    "\n",
    "from sklearn.pipeline import Pipeline\n",
    "from sklearn.preprocessing import FunctionTransformer\n",
    "from sklearn.preprocessing import RobustScaler, MinMaxScaler, StandardScaler\n",
    "from sklearn.impute import KNNImputer, SimpleImputer\n",
    "from sklearn.cluster import KMeans\n",
    "from sklearn.metrics import silhouette_score"
   ]
  },
  {
   "cell_type": "markdown",
   "id": "01d70357-ae1f-4e02-86a6-c69699a85796",
   "metadata": {},
   "source": [
    "## 3. Carga de datos"
   ]
  },
  {
   "cell_type": "code",
   "execution_count": null,
   "id": "dcd642e0-5733-464f-9469-2f1b8479a7dc",
   "metadata": {},
   "outputs": [],
   "source": [
    "df = pd.read_parquet(\"df_sales_week.parquet\", engine=\"pyarrow\")\n",
    "print(df.shape)\n",
    "df.head(3)"
   ]
  },
  {
   "cell_type": "markdown",
   "id": "6dcb54a1-783a-4e2f-a185-04a7210fa785",
   "metadata": {},
   "source": [
    "## 4. Exploratory Data Analysis (EDA)"
   ]
  },
  {
   "cell_type": "code",
   "execution_count": null,
   "id": "287bec9d-d55a-4703-9a05-70d0e6d3ff6f",
   "metadata": {},
   "outputs": [],
   "source": [
    "def report_df(df, verbose = True):\n",
    "    '''\n",
    "    Hace un report simple sobre el DataFrame suministrado.\n",
    "    '''\n",
    "    print(df.info(verbose = verbose))\n",
    "    total_nulos = df.isnull().sum().sum()\n",
    "    print()\n",
    "    print(f\"Tenemos un total de {total_nulos} nulos\")\n",
    "\n",
    "def unique_counts(df: pd.DataFrame) -> pd.DataFrame:\n",
    "    \"\"\"\n",
    "    Retorna un DataFrame con la cantidad de valores únicos por columna.\n",
    "    \n",
    "    Parámetros:\n",
    "        df (pd.DataFrame): DataFrame de entrada\n",
    "    \n",
    "    Retorna:\n",
    "        pd.DataFrame: columnas y cantidad de valores únicos\n",
    "    \"\"\"\n",
    "    result = pd.DataFrame({\n",
    "        \"columna\": df.columns,\n",
    "        \"valores_unicos\": [df[col].nunique(dropna=False) for col in df.columns]\n",
    "    })\n",
    "    return result"
   ]
  },
  {
   "cell_type": "code",
   "execution_count": null,
   "id": "f8d49279-9569-4218-970f-8436f35dcca3",
   "metadata": {},
   "outputs": [],
   "source": [
    "report_df(df)"
   ]
  },
  {
   "cell_type": "code",
   "execution_count": null,
   "id": "6032705f-2f88-4039-8a0f-26921969fa7c",
   "metadata": {},
   "outputs": [],
   "source": [
    "unique_counts(df)"
   ]
  },
  {
   "cell_type": "code",
   "execution_count": null,
   "id": "1cc621e1-9303-43bf-9a1b-7a79c141878d",
   "metadata": {},
   "outputs": [],
   "source": [
    "# Asignar 'id' como índice\n",
    "df = df.set_index(\"id\", drop=True)"
   ]
  },
  {
   "cell_type": "code",
   "execution_count": null,
   "id": "10e01f8c-c170-4d9a-a266-dd88b00bf487",
   "metadata": {},
   "outputs": [],
   "source": [
    "df.head(3)"
   ]
  },
  {
   "cell_type": "markdown",
   "id": "859dcc9b-f2d0-4198-83ef-d9edae163ba9",
   "metadata": {},
   "source": [
    "## 5. Clustering productos"
   ]
  },
  {
   "cell_type": "markdown",
   "id": "b37e2939-3a0f-4a4f-9675-51a2d9a45063",
   "metadata": {},
   "source": [
    "### 5.1. Agrupar ventas por producto-semana"
   ]
  },
  {
   "cell_type": "code",
   "execution_count": null,
   "id": "cea03104-644e-48ec-afda-00301932ce5c",
   "metadata": {},
   "outputs": [],
   "source": [
    "df_items = (\n",
    "    df.groupby([\"item\", \"category\", \"department\", \"yearweek\", \"event\"], as_index=False)\n",
    "    .agg(\n",
    "        n_sales=(\"n_sales\", \"sum\"),\n",
    "        revenue=(\"revenue\", \"sum\"),\n",
    "        avg_sell_price=(\"avg_sell_price\", \"mean\"),\n",
    "    )\n",
    ")"
   ]
  },
  {
   "cell_type": "code",
   "execution_count": null,
   "id": "6b271dda-7afe-4ab5-9620-26ebaa124ce6",
   "metadata": {},
   "outputs": [],
   "source": [
    "df_items"
   ]
  },
  {
   "cell_type": "markdown",
   "id": "9e806141-6bb6-4e6e-9bd5-0e11256b7e88",
   "metadata": {},
   "source": [
    "### 5.2. Agregar features"
   ]
  },
  {
   "cell_type": "code",
   "execution_count": null,
   "id": "1b7d6fbd-af74-4ab3-a07f-fdaaef7d6c8e",
   "metadata": {},
   "outputs": [],
   "source": [
    "# Features básicos por item\n",
    "features_item = (\n",
    "    df_items.groupby(\"item\")\n",
    "    .agg(\n",
    "        mean_sales=(\"n_sales\", \"mean\"),\n",
    "        std_sales=(\"n_sales\", \"std\"),\n",
    "        max_sales=(\"n_sales\", \"max\"),\n",
    "        min_sales=(\"n_sales\", \"min\"),\n",
    "        mean_revenue=(\"revenue\", \"mean\"),\n",
    "        std_revenue=(\"revenue\", \"std\"),\n",
    "        total_sales=(\"n_sales\", \"sum\"),\n",
    "        total_revenue=(\"revenue\", \"sum\"),\n",
    "        avg_price=(\"avg_sell_price\", \"mean\"),\n",
    "    )\n",
    "    .reset_index()\n",
    ")\n",
    "\n",
    "# Coeficiente de variación\n",
    "# features_item[\"cv_sales\"] = features_item[\"std_sales\"] / features_item[\"mean_sales\"].replace(0, np.nan)\n",
    "features_item[\"cv_revenue\"] = features_item[\"std_revenue\"] / features_item[\"mean_revenue\"].replace(0, np.nan)\n",
    "\n",
    "# % semanas con 0 ventas\n",
    "pct_zero = (\n",
    "    df_items.groupby(\"item\")[\"n_sales\"]\n",
    "    .apply(lambda x: (x == 0).mean())\n",
    "    .reset_index(name=\"pct_weeks_zero\")\n",
    ")\n",
    "\n",
    "# % de ventas en semanas con evento\n",
    "sales_event = (\n",
    "    df_items.groupby([\"item\", \"event\"])[\"n_sales\"].sum().reset_index()\n",
    ")\n",
    "\n",
    "sales_event_flag = (\n",
    "    sales_event.groupby(\"item\")\n",
    "    .apply(lambda x: x.loc[x[\"event\"] != \"Without event\", \"n_sales\"].sum() / x[\"n_sales\"].sum())\n",
    "    .reset_index(name=\"pct_sales_event\")\n",
    ")\n",
    "\n",
    "# Unir todo\n",
    "features_item = (\n",
    "    features_item\n",
    "    .merge(pct_zero, on=\"item\", how=\"left\")\n",
    "    .merge(sales_event_flag, on=\"item\", how=\"left\")\n",
    "    .fillna({\"pct_sales_event\": 0})\n",
    ")\n"
   ]
  },
  {
   "cell_type": "code",
   "execution_count": null,
   "id": "f5240376-7f79-489a-b605-8c95c172de16",
   "metadata": {},
   "outputs": [],
   "source": [
    "features_item.head(3)"
   ]
  },
  {
   "cell_type": "markdown",
   "id": "60410949-816b-4a13-aa76-3f9fff430756",
   "metadata": {},
   "source": [
    "### 5.3. Establecer numero de clusters"
   ]
  },
  {
   "cell_type": "code",
   "execution_count": null,
   "id": "018c7915-5016-460a-875c-e26c4f72c277",
   "metadata": {},
   "outputs": [],
   "source": [
    "# Selección dinámica solo de variables numéricas\n",
    "X = (\n",
    "    features_item\n",
    "    .select_dtypes(include=[np.number])   # solo numéricas\n",
    "    .replace([np.inf, -np.inf], np.nan)   # manejar infinitos\n",
    "    .fillna(0.0)                          # manejar nulos\n",
    ")"
   ]
  },
  {
   "cell_type": "code",
   "execution_count": null,
   "id": "5792297e-83a6-4779-80d2-53aacd34f55c",
   "metadata": {},
   "outputs": [],
   "source": [
    "scaler = StandardScaler()\n",
    "X_scaled = scaler.fit_transform(X)"
   ]
  },
  {
   "cell_type": "code",
   "execution_count": null,
   "id": "ff43f7e8-b616-4892-b246-ad9e70b57415",
   "metadata": {},
   "outputs": [],
   "source": [
    "sse = {}\n",
    "for k in range(2, 15):   # probamos de 2 a 14 clusters\n",
    "    kmeans = KMeans(n_clusters=k, random_state=42, n_init=\"auto\")\n",
    "    kmeans.fit(X_scaled)\n",
    "    sse[k] = kmeans.inertia_\n"
   ]
  },
  {
   "cell_type": "code",
   "execution_count": null,
   "id": "5d35ed22-c8a5-4a75-96aa-37202e5057a4",
   "metadata": {},
   "outputs": [],
   "source": [
    "fig = plt.figure(figsize=(8, 4))\n",
    "ax = fig.add_subplot()\n",
    "\n",
    "x_values = list(sse.keys())\n",
    "y_values = list(sse.values())\n",
    "\n",
    "ax.plot(x_values, y_values, marker=\"o\", label=\"Inercia (SSE)\")\n",
    "ax.set_xlabel(\"Número de clusters (k)\", fontsize=12)\n",
    "ax.set_ylabel(\"Inercia (SSE)\", fontsize=12)\n",
    "ax.legend()\n",
    "fig.suptitle(\"Método del Codo (Elbow Method)\", fontsize=16)\n",
    "plt.show()"
   ]
  },
  {
   "cell_type": "markdown",
   "id": "298ef702-71ef-4e99-bcb2-02674f16bf8e",
   "metadata": {},
   "source": [
    "### 5.4. Creacion de pipeline"
   ]
  },
  {
   "cell_type": "code",
   "execution_count": null,
   "id": "5224dc97-e960-4e50-b437-88903d7d64ff",
   "metadata": {},
   "outputs": [],
   "source": [
    "# Definir pipeline\n",
    "pipeline = Pipeline([\n",
    "    (\"scaler\", StandardScaler()),\n",
    "    (\"kmeans\", KMeans(n_clusters=4, random_state=175, n_init=\"auto\"))\n",
    "])\n",
    "\n",
    "# Entrenar modelo\n",
    "pipeline.fit(X)\n",
    "\n",
    "# Obtener etiquetas de cluster\n",
    "features_item[\"cluster\"] = pipeline[\"kmeans\"].labels_"
   ]
  },
  {
   "cell_type": "code",
   "execution_count": null,
   "id": "9b2ff4e1-c317-47f0-84b8-35fe3b18ecfc",
   "metadata": {},
   "outputs": [],
   "source": [
    "# Distribución por cluster\n",
    "print(features_item[\"cluster\"].value_counts())"
   ]
  },
  {
   "cell_type": "code",
   "execution_count": null,
   "id": "f70d0278-7fc3-4a4d-bffc-4b5f81e70f68",
   "metadata": {},
   "outputs": [],
   "source": [
    "features_item.head(3)"
   ]
  },
  {
   "cell_type": "code",
   "execution_count": null,
   "id": "427998bc-cff7-4df0-9cf1-9af74bf52a96",
   "metadata": {},
   "outputs": [],
   "source": [
    "# Tomar las columnas categóricas únicas por item\n",
    "df_cats = df_items[[\"item\", \"category\", \"department\"]].drop_duplicates(\"item\")\n",
    "\n",
    "# Unirlas con tus features agregados\n",
    "features_item = features_item.merge(df_cats, on=\"item\", how=\"left\")"
   ]
  },
  {
   "cell_type": "code",
   "execution_count": null,
   "id": "ec296801-f306-490f-a211-4ff89d645291",
   "metadata": {},
   "outputs": [],
   "source": [
    "df_items.shape"
   ]
  },
  {
   "cell_type": "code",
   "execution_count": null,
   "id": "7b2c3927-78cc-46ff-bc11-3765e39ff341",
   "metadata": {},
   "outputs": [],
   "source": [
    "features_item.head(3)"
   ]
  },
  {
   "cell_type": "code",
   "execution_count": null,
   "id": "97eb7fef-8872-406a-bdaf-5b513a0ca54d",
   "metadata": {},
   "outputs": [],
   "source": [
    "features_item.to_csv(\"clustering_data.csv\", index=False, encoding=\"utf-8\")"
   ]
  },
  {
   "cell_type": "code",
   "execution_count": null,
   "id": "e8f417af-a714-4e91-9b82-2799efcef815",
   "metadata": {},
   "outputs": [],
   "source": [
    "pipeline[\"kmeans\"].labels_.shape"
   ]
  },
  {
   "cell_type": "code",
   "execution_count": null,
   "id": "98fc2e43-af9a-410a-b502-f59eb3be7b1b",
   "metadata": {},
   "outputs": [],
   "source": [
    "pipeline[:2]"
   ]
  },
  {
   "cell_type": "code",
   "execution_count": null,
   "id": "defc575e-04a1-4a37-aed8-34249d18bce7",
   "metadata": {},
   "outputs": [],
   "source": [
    "features_item[\"cluster\"] = pipeline[\"kmeans\"].labels_"
   ]
  },
  {
   "cell_type": "code",
   "execution_count": null,
   "id": "747c4d95-6bee-4159-9d8a-47c864f32293",
   "metadata": {},
   "outputs": [],
   "source": [
    "features_item.head(3)"
   ]
  },
  {
   "cell_type": "markdown",
   "id": "8726d024-a804-49f0-9a62-3d12b015d5c4",
   "metadata": {},
   "source": [
    "### 5.5. Verificacion de clusters por feature"
   ]
  },
  {
   "cell_type": "code",
   "execution_count": null,
   "id": "abf011ba-f520-4a03-b439-3c4482ece571",
   "metadata": {},
   "outputs": [],
   "source": [
    "(\n",
    "    features_item\n",
    "    .groupby([\"cluster\"])\n",
    "    .describe()\n",
    "    .T\n",
    "    .style\n",
    "    .format('{:.2f}')\n",
    "    .background_gradient(cmap = 'Blues', axis = 1)\n",
    ")"
   ]
  },
  {
   "cell_type": "markdown",
   "id": "2c0fdd2b-b8bd-4b56-9b6f-a37b23ee3ce0",
   "metadata": {},
   "source": [
    "## 6. Ficha de productos"
   ]
  },
  {
   "cell_type": "code",
   "execution_count": null,
   "id": "63c74b37-1de3-4f03-a018-11453ba937a9",
   "metadata": {},
   "outputs": [],
   "source": [
    "ficha_df = pd.DataFrame()"
   ]
  },
  {
   "cell_type": "code",
   "execution_count": null,
   "id": "b2fd9c04-b2a2-4e69-86b5-5849d0ef8c13",
   "metadata": {},
   "outputs": [],
   "source": [
    "for i, col in enumerate([\"pct_weeks_zero\", \"total_sales\", \"pct_sales_event\", \"avg_price\"]):\n",
    "    resumen_data = features_item[[\"cluster\", col]].groupby(\"cluster\").describe().T[1:]\n",
    "    ficha_df = pd.concat([ficha_df, resumen_data])"
   ]
  },
  {
   "cell_type": "code",
   "execution_count": null,
   "id": "370a63d9-b4f9-4583-a610-1231a1a5390d",
   "metadata": {},
   "outputs": [],
   "source": [
    "ficha_df"
   ]
  },
  {
   "cell_type": "code",
   "execution_count": null,
   "id": "193d31c4-372a-4643-8dfe-955c64fa274e",
   "metadata": {},
   "outputs": [],
   "source": [
    "# generamos nuestro multiindex\n",
    "out_index = [\n",
    "    \"Ventas\",\n",
    "    \"Rotacion\",\n",
    "    \"Estacionalidad\",\n",
    "    \"Costo\"\n",
    "]\n",
    "\n",
    "inner_index = [\n",
    "    \"pct_weeks_zero\", \"total_sales\", \"pct_sales_event\", \"avg_price\"\n",
    "]\n",
    "\n",
    "estadisticos = [\"Media\", \"Desviación\", \"Mínimo\", \"Perc. 25\", \"Perc. 50\", \"Perc. 75\", \"Máximo\"]\n",
    "\n",
    "new_multi_index = []\n",
    "\n",
    "for oi, ii, in zip(out_index, inner_index):\n",
    "    for es in estadisticos:\n",
    "        new_multi_index.append((oi, ii, es))"
   ]
  },
  {
   "cell_type": "code",
   "execution_count": null,
   "id": "9cbd886c-9ed4-427c-945d-b7935ac22b7d",
   "metadata": {},
   "outputs": [],
   "source": [
    "def generate_multiindex(list_of_tuples, names):\n",
    "    return pd.MultiIndex.from_tuples(list_of_tuples, names = names)"
   ]
  },
  {
   "cell_type": "code",
   "execution_count": null,
   "id": "4df2bb61-deca-4532-bb85-83534239733e",
   "metadata": {},
   "outputs": [],
   "source": [
    "names = [\"Grupo Indicadores\", \"Indicador\", \"Estadístico\"]\n",
    "index_ficha = generate_multiindex(new_multi_index, names)\n",
    "ficha_df.set_index(index_ficha, inplace = True)"
   ]
  },
  {
   "cell_type": "code",
   "execution_count": null,
   "id": "d5ca1896-7e78-4927-bc17-d85a9d0407c5",
   "metadata": {},
   "outputs": [],
   "source": [
    "tamaño_clusters = features_item.groupby(\"cluster\").size().to_frame().T\n",
    "tamaño_clusters.set_index(generate_multiindex([(\"General\", \"Clúster\", \"Tamaño\")] , names), inplace = True)"
   ]
  },
  {
   "cell_type": "code",
   "execution_count": null,
   "id": "1f3fc7ff-cd3e-4fc5-9260-c69af4413e6f",
   "metadata": {},
   "outputs": [],
   "source": [
    "ficha_df = pd.concat([tamaño_clusters, ficha_df])"
   ]
  },
  {
   "cell_type": "code",
   "execution_count": null,
   "id": "21314f9d-5809-4fbc-8f01-aa2bb699b52b",
   "metadata": {},
   "outputs": [],
   "source": [
    "ficha_df"
   ]
  },
  {
   "cell_type": "code",
   "execution_count": null,
   "id": "19e2fd5c-45e7-4376-a0a3-3e831ca87755",
   "metadata": {},
   "outputs": [],
   "source": [
    "float_format = '{:.2f}'"
   ]
  },
  {
   "cell_type": "code",
   "execution_count": null,
   "id": "77f6db39-85df-4c36-9c8b-e29de8655926",
   "metadata": {},
   "outputs": [],
   "source": [
    "(\n",
    "    ficha_df\n",
    "    .rename(columns = {\n",
    "        0 : \"Menor Rotacion\",\n",
    "        3 : \"Eventos\",\n",
    "        1 : \"Top Ventas\",\n",
    "        2 : \"Alto valor\"\n",
    "    })\n",
    "    .style\n",
    "    .format(float_format)\n",
    "    .background_gradient(cmap = 'Blues', axis = 1)\n",
    ")"
   ]
  },
  {
   "cell_type": "markdown",
   "id": "132c8cbb-0d19-4348-b0b9-b6dbddf5018c",
   "metadata": {},
   "source": [
    "## 7. Clustering tiendas"
   ]
  },
  {
   "cell_type": "code",
   "execution_count": null,
   "id": "d800f481-7f1f-48b0-beea-1d8f02a02024",
   "metadata": {},
   "outputs": [],
   "source": [
    "df.head(3)"
   ]
  },
  {
   "cell_type": "markdown",
   "id": "13d78915-a670-4f74-ac5d-1d31f5dc172d",
   "metadata": {},
   "source": [
    "### 7.1. Agrupar ventas por tienda-semana"
   ]
  },
  {
   "cell_type": "code",
   "execution_count": null,
   "id": "65c6fc9c-2b7c-4a0c-bb0f-18f90437d07d",
   "metadata": {},
   "outputs": [],
   "source": [
    "df_store = (\n",
    "    df.groupby([\"store_code\", \"store\", \"region\", \"event\", \"yearweek\"], as_index=False)\n",
    "    .agg(\n",
    "        n_sales=(\"n_sales\", \"sum\"),\n",
    "        revenue=(\"revenue\", \"sum\"),\n",
    "    )\n",
    ")"
   ]
  },
  {
   "cell_type": "code",
   "execution_count": null,
   "id": "f66ef21d-7fbb-441c-b508-7b0620b0cd31",
   "metadata": {},
   "outputs": [],
   "source": [
    "df_store"
   ]
  },
  {
   "cell_type": "markdown",
   "id": "f9aa76b1-0fd2-4308-b4cf-b7bccd0448f4",
   "metadata": {},
   "source": [
    "### 7.2. Agregar features"
   ]
  },
  {
   "cell_type": "code",
   "execution_count": null,
   "id": "091704a9-988d-4c34-9d8f-7b5461f5990e",
   "metadata": {},
   "outputs": [],
   "source": [
    "# Features básicos por item\n",
    "features_store = (\n",
    "    df_store.groupby(\"store_code\")\n",
    "    .agg(\n",
    "        mean_sales=(\"n_sales\", \"mean\"),\n",
    "        std_sales=(\"n_sales\", \"std\"),\n",
    "        max_sales=(\"n_sales\", \"max\"),\n",
    "        min_sales=(\"n_sales\", \"min\"),\n",
    "        mean_revenue=(\"revenue\", \"mean\"),\n",
    "        std_revenue=(\"revenue\", \"std\"),\n",
    "        total_sales=(\"n_sales\", \"sum\"),\n",
    "        total_revenue=(\"revenue\", \"sum\"),\n",
    "    )\n",
    "    .reset_index()\n",
    ")\n",
    "\n",
    "# Coeficiente de variación\n",
    "# features_item[\"cv_sales\"] = features_item[\"std_sales\"] / features_item[\"mean_sales\"].replace(0, np.nan)\n",
    "features_store[\"cv_revenue\"] = features_store[\"std_revenue\"] / features_store[\"mean_revenue\"].replace(0, np.nan)\n",
    "\n",
    "# % semanas con 0 ventas\n",
    "pct_zero_store = (\n",
    "    df_store.groupby(\"store_code\")[\"n_sales\"]\n",
    "    .apply(lambda x: (x == 0).mean())\n",
    "    .reset_index(name=\"pct_weeks_zero_store\")\n",
    ")\n",
    "\n",
    "# % de ventas en semanas con evento\n",
    "sales_event_store = (\n",
    "    df_store.groupby([\"store_code\", \"event\"])[\"n_sales\"].sum().reset_index()\n",
    ")\n",
    "\n",
    "sales_event_flag_store = (\n",
    "    sales_event_store.groupby(\"store_code\")\n",
    "    .apply(lambda x: x.loc[x[\"event\"] != \"Without event\", \"n_sales\"].sum() / x[\"n_sales\"].sum())\n",
    "    .reset_index(name=\"pct_sales_event_store\")\n",
    ")\n",
    "\n",
    "# Unir todo\n",
    "features_store = (\n",
    "    features_store\n",
    "    .merge(pct_zero_store, on=\"store_code\", how=\"left\")\n",
    "    .merge(sales_event_flag_store, on=\"store_code\", how=\"left\")\n",
    "    .fillna({\"pct_sales_event_store\": 0})\n",
    ")\n"
   ]
  },
  {
   "cell_type": "code",
   "execution_count": null,
   "id": "1f928b4a-50fb-4398-9e08-305719b5c449",
   "metadata": {},
   "outputs": [],
   "source": [
    "features_store.head(3)"
   ]
  },
  {
   "cell_type": "markdown",
   "id": "8b339659-79e9-4d70-a581-f594337ba554",
   "metadata": {},
   "source": [
    "### 7.3. Establecer numero de clusters para tiendas"
   ]
  },
  {
   "cell_type": "code",
   "execution_count": null,
   "id": "ebc227ef-583c-4848-a70c-ebd167ee21e6",
   "metadata": {},
   "outputs": [],
   "source": [
    "# Selección dinámica solo de variables numéricas\n",
    "X = (\n",
    "    features_store\n",
    "    .select_dtypes(include=[np.number])   # solo numéricas\n",
    "    .replace([np.inf, -np.inf], np.nan)   # manejar infinitos\n",
    "    .fillna(0.0)                          # manejar nulos\n",
    ")"
   ]
  },
  {
   "cell_type": "code",
   "execution_count": null,
   "id": "24467bc2-e6ff-4bd3-8eeb-c0a3ef85b34b",
   "metadata": {},
   "outputs": [],
   "source": [
    "scaler = StandardScaler()\n",
    "X_scaled = scaler.fit_transform(X)"
   ]
  },
  {
   "cell_type": "code",
   "execution_count": null,
   "id": "32028d1c-6a70-41d4-a52a-a2b9011ba38a",
   "metadata": {},
   "outputs": [],
   "source": [
    "sse = {}\n",
    "for k in range(2, 10):   # probamos de 2 a 14 clusters\n",
    "    kmeans = KMeans(n_clusters=k, random_state=42, n_init=\"auto\")\n",
    "    kmeans.fit(X_scaled)\n",
    "    sse[k] = kmeans.inertia_\n"
   ]
  },
  {
   "cell_type": "code",
   "execution_count": null,
   "id": "e23d48f0-25f3-4163-8aa5-894957789cb5",
   "metadata": {},
   "outputs": [],
   "source": [
    "fig = plt.figure(figsize=(8, 4))\n",
    "ax = fig.add_subplot()\n",
    "\n",
    "x_values = list(sse.keys())\n",
    "y_values = list(sse.values())\n",
    "\n",
    "ax.plot(x_values, y_values, marker=\"o\", label=\"Inercia (SSE)\")\n",
    "ax.set_xlabel(\"Número de clusters (k)\", fontsize=12)\n",
    "ax.set_ylabel(\"Inercia (SSE)\", fontsize=12)\n",
    "ax.legend()\n",
    "fig.suptitle(\"Método del Codo (Elbow Method)\", fontsize=16)\n",
    "plt.show()"
   ]
  },
  {
   "cell_type": "markdown",
   "id": "d1cb759a-d358-497d-b04d-26bc443d04f6",
   "metadata": {},
   "source": [
    "### 7.4. Creacion de pipeline"
   ]
  },
  {
   "cell_type": "code",
   "execution_count": null,
   "id": "0363e5d0-516e-4716-b28e-2eff8f40a356",
   "metadata": {},
   "outputs": [],
   "source": [
    "# Definir pipeline\n",
    "pipeline = Pipeline([\n",
    "    (\"scaler\", StandardScaler()),\n",
    "    (\"kmeans\", KMeans(n_clusters=4, random_state=175, n_init=\"auto\"))\n",
    "])\n",
    "\n",
    "# Entrenar modelo\n",
    "pipeline.fit(X)\n",
    "\n",
    "# Obtener etiquetas de cluster\n",
    "features_store[\"cluster\"] = pipeline[\"kmeans\"].labels_"
   ]
  },
  {
   "cell_type": "code",
   "execution_count": null,
   "id": "2eb6f488-b6bc-4df1-a804-d612c7c97c99",
   "metadata": {},
   "outputs": [],
   "source": [
    "# Distribución por cluster\n",
    "print(features_store[\"cluster\"].value_counts())"
   ]
  },
  {
   "cell_type": "code",
   "execution_count": null,
   "id": "6f0c3ef2-8fad-4dc1-bfe8-637fb4bfc9ea",
   "metadata": {},
   "outputs": [],
   "source": [
    "features_store.head(3)"
   ]
  },
  {
   "cell_type": "code",
   "execution_count": null,
   "id": "e81f9df6-571f-4d0e-ab33-8c7daed67170",
   "metadata": {},
   "outputs": [],
   "source": [
    "df_store.head()"
   ]
  },
  {
   "cell_type": "code",
   "execution_count": null,
   "id": "340381b0-1949-4df0-bde5-748d2d3ab9b4",
   "metadata": {},
   "outputs": [],
   "source": [
    "# Tomar las columnas categóricas únicas por item\n",
    "df_cats_store = df_store[[\"store_code\", \"store\", \"region\"]].drop_duplicates(\"store_code\")\n",
    "\n",
    "# Unirlas con tus features agregados\n",
    "features_store = features_store.merge(df_cats_store, on=\"store_code\", how=\"left\")"
   ]
  },
  {
   "cell_type": "code",
   "execution_count": null,
   "id": "d9870277-1bb6-4696-8a68-5d1c51561f16",
   "metadata": {},
   "outputs": [],
   "source": [
    "df_store.shape"
   ]
  },
  {
   "cell_type": "code",
   "execution_count": null,
   "id": "e1f9301a-1a87-41f5-8020-82e12dc409ea",
   "metadata": {},
   "outputs": [],
   "source": [
    "features_store.head(3)"
   ]
  },
  {
   "cell_type": "code",
   "execution_count": null,
   "id": "ae58b175-bf13-40bb-b85b-41afc11ba3bd",
   "metadata": {},
   "outputs": [],
   "source": [
    "features_store.to_csv(\"clustering_store_data.csv\", index=False, encoding=\"utf-8\")"
   ]
  },
  {
   "cell_type": "code",
   "execution_count": null,
   "id": "cc878642-85bc-4d27-92a6-f359a0e34da5",
   "metadata": {},
   "outputs": [],
   "source": [
    "pipeline[\"kmeans\"].labels_.shape"
   ]
  },
  {
   "cell_type": "code",
   "execution_count": null,
   "id": "4cbfe8d2-a45f-4405-8f5d-7e6271bc6641",
   "metadata": {},
   "outputs": [],
   "source": [
    "pipeline[:2]"
   ]
  },
  {
   "cell_type": "code",
   "execution_count": null,
   "id": "f279f3ee-c3dc-4aa6-94f1-31bcee0985bf",
   "metadata": {},
   "outputs": [],
   "source": [
    "features_store[\"cluster\"] = pipeline[\"kmeans\"].labels_"
   ]
  },
  {
   "cell_type": "code",
   "execution_count": null,
   "id": "fbb35702-4337-44ae-b42f-40d716f326c8",
   "metadata": {},
   "outputs": [],
   "source": [
    "features_store.head(3)"
   ]
  },
  {
   "cell_type": "markdown",
   "id": "584dae19-22d5-49db-a5c7-7bbdf5f00e1e",
   "metadata": {},
   "source": [
    "### 7.5. Verificacion de clusters por feature"
   ]
  },
  {
   "cell_type": "code",
   "execution_count": null,
   "id": "8eaf4dae-3576-4c37-ab91-0f21e2dbd922",
   "metadata": {},
   "outputs": [],
   "source": [
    "(\n",
    "    features_store\n",
    "    .groupby([\"cluster\"])\n",
    "    .describe()\n",
    "    .T\n",
    "    .style\n",
    "    .format('{:.2f}')\n",
    "    .background_gradient(cmap = 'Blues', axis = 1)\n",
    ")"
   ]
  },
  {
   "cell_type": "markdown",
   "id": "8889cb36-09e8-4d33-841f-11f9c876fcce",
   "metadata": {},
   "source": [
    "## 8. Ficha de tiendas"
   ]
  },
  {
   "cell_type": "code",
   "execution_count": null,
   "id": "8c167628-0a65-4543-b80c-c041ad719132",
   "metadata": {},
   "outputs": [],
   "source": [
    "ficha_store = pd.DataFrame()"
   ]
  },
  {
   "cell_type": "code",
   "execution_count": null,
   "id": "bad92d25-9c8d-4123-9184-4b40ae3c48e2",
   "metadata": {},
   "outputs": [],
   "source": [
    "for i, col in enumerate([\"mean_sales\", \"total_sales\", \"cv_revenue\", \"mean_revenue\"]):\n",
    "    resumen_data = features_store[[\"cluster\", col]].groupby(\"cluster\").describe().T[1:]\n",
    "    ficha_store = pd.concat([ficha_store, resumen_data])"
   ]
  },
  {
   "cell_type": "code",
   "execution_count": null,
   "id": "0c862b16-289e-43fe-bf29-a017d3a447ac",
   "metadata": {},
   "outputs": [],
   "source": [
    "ficha_store"
   ]
  },
  {
   "cell_type": "code",
   "execution_count": null,
   "id": "b9b0351b-fc1e-4f35-8f69-18a2b02aafce",
   "metadata": {},
   "outputs": [],
   "source": [
    "# generamos nuestro multiindex\n",
    "out_index_store = [\n",
    "    \"Rendimiento base\",\n",
    "    \"Volumen total\",\n",
    "    \"Estabilidad\",\n",
    "    \"Rentabilidad\"\n",
    "]\n",
    "\n",
    "inner_index_store = [\n",
    "    \"mean_sales\", \"total_sales\", \"cv_revenue\", \"mean_revenue\"\n",
    "]\n",
    "\n",
    "estadisticos_store = [\"Media\", \"Desviación\", \"Mínimo\", \"Perc. 25\", \"Perc. 50\", \"Perc. 75\", \"Máximo\"]\n",
    "\n",
    "new_multi_index_store = []\n",
    "\n",
    "for oi, ii, in zip(out_index_store, inner_index_store):\n",
    "    for es in estadisticos_store:\n",
    "        new_multi_index_store.append((oi, ii, es))"
   ]
  },
  {
   "cell_type": "code",
   "execution_count": null,
   "id": "db0d98e7-467f-48c3-9d10-6ab92a69a6b9",
   "metadata": {},
   "outputs": [],
   "source": [
    "# def generate_multiindex(list_of_tuples, names):\n",
    "#     return pd.MultiIndex.from_tuples(list_of_tuples, names = names)"
   ]
  },
  {
   "cell_type": "code",
   "execution_count": null,
   "id": "99707711-59b4-4ef2-8139-7fe086fa33ab",
   "metadata": {},
   "outputs": [],
   "source": [
    "names = [\"Grupo Indicadores\", \"Indicador\", \"Estadístico\"]\n",
    "index_ficha_store = generate_multiindex(new_multi_index_store, names)\n",
    "ficha_store.set_index(index_ficha_store, inplace = True)"
   ]
  },
  {
   "cell_type": "code",
   "execution_count": null,
   "id": "3f665a6b-6874-47bb-b077-b48ca023b4b4",
   "metadata": {},
   "outputs": [],
   "source": [
    "tamaño_clusters_store = features_store.groupby(\"cluster\").size().to_frame().T\n",
    "tamaño_clusters_store.set_index(generate_multiindex([(\"General\", \"Clúster\", \"Tamaño\")] , names), inplace = True)"
   ]
  },
  {
   "cell_type": "code",
   "execution_count": null,
   "id": "44abb1d9-adeb-42fd-9662-931bc0f1434e",
   "metadata": {},
   "outputs": [],
   "source": [
    "ficha_store = pd.concat([tamaño_clusters_store, ficha_store])"
   ]
  },
  {
   "cell_type": "code",
   "execution_count": null,
   "id": "36199eb8-7fea-49a4-8d0e-ebf08436f875",
   "metadata": {},
   "outputs": [],
   "source": [
    "ficha_store"
   ]
  },
  {
   "cell_type": "code",
   "execution_count": null,
   "id": "feffa91b-8557-4dda-8172-6a2cf32b641e",
   "metadata": {},
   "outputs": [],
   "source": [
    "float_format = '{:.2f}'"
   ]
  },
  {
   "cell_type": "code",
   "execution_count": null,
   "id": "aa11edd4-4ccf-4315-818d-d362dc3687c5",
   "metadata": {},
   "outputs": [],
   "source": [
    "(\n",
    "    ficha_store\n",
    "    .rename(columns = {\n",
    "        0 : \"Tiendas irregulares\",\n",
    "        1 : \"Tiendas estables\",\n",
    "        2 : \"Tiendas premium\",\n",
    "        3 : \"Tiendas bajo rendimiento\"\n",
    "    })\n",
    "    .style\n",
    "    .format(float_format)\n",
    "    .background_gradient(cmap = 'Blues', axis = 1)\n",
    ")"
   ]
  },
  {
   "cell_type": "markdown",
   "id": "e2d9db6f-7d6b-4cdb-b13d-e0dd1493634f",
   "metadata": {},
   "source": [
    "## 9. Creacion fichero para forecasting"
   ]
  },
  {
   "cell_type": "code",
   "execution_count": null,
   "id": "ef97ae39-2335-4ad4-9a90-9b8cdd07f205",
   "metadata": {},
   "outputs": [],
   "source": [
    "df.head(3)"
   ]
  },
  {
   "cell_type": "code",
   "execution_count": null,
   "id": "50c0fdaf-3105-4eba-bc29-9341534e9ea3",
   "metadata": {},
   "outputs": [],
   "source": [
    "df = df.reset_index()"
   ]
  },
  {
   "cell_type": "code",
   "execution_count": null,
   "id": "26fa05c7-cbd8-406a-9af2-05b5e9c9433f",
   "metadata": {},
   "outputs": [],
   "source": [
    "features_store.head(3)"
   ]
  },
  {
   "cell_type": "code",
   "execution_count": null,
   "id": "ffbe5f1e-00b1-4949-9d24-6516ebebf501",
   "metadata": {},
   "outputs": [],
   "source": [
    "features_item.head(3)"
   ]
  },
  {
   "cell_type": "code",
   "execution_count": null,
   "id": "53de2ede-279a-40d1-afc0-df079980ee96",
   "metadata": {},
   "outputs": [],
   "source": [
    "cluster_store = features_store[[\"store_code\", \"cluster\"]].drop_duplicates()\n",
    "cluster_item = features_item[[\"item\", \"cluster\"]].drop_duplicates()"
   ]
  },
  {
   "cell_type": "code",
   "execution_count": null,
   "id": "c8f0e8b1-7487-414e-bc36-d90a79d87286",
   "metadata": {},
   "outputs": [],
   "source": [
    "cluster_store"
   ]
  },
  {
   "cell_type": "code",
   "execution_count": null,
   "id": "7a8e90ed-f1d8-4e6e-8bc7-8a8945ae9211",
   "metadata": {},
   "outputs": [],
   "source": [
    "cluster_item"
   ]
  },
  {
   "cell_type": "code",
   "execution_count": null,
   "id": "dcd2cf37-1df8-4ea7-8ee8-e7ebb79065f9",
   "metadata": {},
   "outputs": [],
   "source": [
    "df.shape"
   ]
  },
  {
   "cell_type": "code",
   "execution_count": null,
   "id": "360dc8f9-7a65-4228-8786-e93ade8e4368",
   "metadata": {},
   "outputs": [],
   "source": [
    "df = (\n",
    "    df\n",
    "    .merge(cluster_store, on=\"store_code\", how=\"left\")\n",
    "    .rename(columns={'cluster': 'cluster_store'})\n",
    "    .merge(cluster_item, on=\"item\", how=\"left\")\n",
    "    .rename(columns={'cluster': 'cluster_item'})\n",
    ")"
   ]
  },
  {
   "cell_type": "code",
   "execution_count": null,
   "id": "8393f1db-bfc4-45bf-a4e4-a58686922c71",
   "metadata": {},
   "outputs": [],
   "source": [
    "df.shape"
   ]
  },
  {
   "cell_type": "code",
   "execution_count": null,
   "id": "377c229b-42c4-4439-af59-68585ba49e69",
   "metadata": {},
   "outputs": [],
   "source": [
    "df.head(3)"
   ]
  },
  {
   "cell_type": "code",
   "execution_count": null,
   "id": "a88e721a-3f0b-4ed3-ba13-de12c7885a8c",
   "metadata": {},
   "outputs": [],
   "source": [
    "df.to_parquet('df_forecasting.parquet', engine='pyarrow', index=False, compression='snappy')"
   ]
  },
  {
   "cell_type": "markdown",
   "id": "de344a89-6652-4c79-be1f-6c33dd10b8bc",
   "metadata": {},
   "source": [
    "## Conclusion"
   ]
  },
  {
   "cell_type": "markdown",
   "id": "c0eb905b-d9a1-426a-8636-3302e9a960c9",
   "metadata": {},
   "source": [
    "### Hemos realizado clustering de tiendas, pese a que no es relevante sus resulados para el analisis de negocio, si consideramos puede tener influencia en la prediccion de ventas, por lo cual mantenemos esta variable en el archivo exportable del cual se alimentara el forecasting."
   ]
  },
  {
   "cell_type": "code",
   "execution_count": null,
   "id": "274ab0a8-dad5-4d00-8851-8ab4c5918335",
   "metadata": {},
   "outputs": [],
   "source": []
  }
 ],
 "metadata": {
  "kernelspec": {
   "display_name": "Python 3 (ipykernel)",
   "language": "python",
   "name": "python3"
  },
  "language_info": {
   "codemirror_mode": {
    "name": "ipython",
    "version": 3
   },
   "file_extension": ".py",
   "mimetype": "text/x-python",
   "name": "python",
   "nbconvert_exporter": "python",
   "pygments_lexer": "ipython3",
   "version": "3.13.9"
  }
 },
 "nbformat": 4,
 "nbformat_minor": 5
}
