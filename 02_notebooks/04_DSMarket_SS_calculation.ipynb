{
  "cells": [
    {
      "cell_type": "markdown",
      "metadata": {
        "id": "yrDMb8T98U8D"
      },
      "source": [
        "#04_DSMarket_SS_calculation"
      ]
    },
    {
      "cell_type": "markdown",
      "metadata": {
        "id": "r7AjdJ_28LEw"
      },
      "source": [
        "## 1. Import"
      ]
    },
    {
      "cell_type": "code",
      "execution_count": 142,
      "metadata": {
        "id": "tPSyC5Js8ELA"
      },
      "outputs": [],
      "source": [
        "import numpy as np\n",
        "import pandas as pd\n",
        "from sklearn.metrics import mean_squared_error\n",
        "from scipy.stats import norm"
      ]
    },
    {
      "cell_type": "code",
      "execution_count": 143,
      "metadata": {
        "id": "LfhjAClcPWAN"
      },
      "outputs": [
        {
          "name": "stdout",
          "output_type": "stream",
          "text": [
            "(8354260, 15)\n"
          ]
        },
        {
          "data": {
            "text/html": [
              "<div>\n",
              "<style scoped>\n",
              "    .dataframe tbody tr th:only-of-type {\n",
              "        vertical-align: middle;\n",
              "    }\n",
              "\n",
              "    .dataframe tbody tr th {\n",
              "        vertical-align: top;\n",
              "    }\n",
              "\n",
              "    .dataframe thead th {\n",
              "        text-align: right;\n",
              "    }\n",
              "</style>\n",
              "<table border=\"1\" class=\"dataframe\">\n",
              "  <thead>\n",
              "    <tr style=\"text-align: right;\">\n",
              "      <th></th>\n",
              "      <th>id</th>\n",
              "      <th>Unnamed: 0</th>\n",
              "      <th>item</th>\n",
              "      <th>category</th>\n",
              "      <th>department</th>\n",
              "      <th>store</th>\n",
              "      <th>store_code</th>\n",
              "      <th>region</th>\n",
              "      <th>yearweek</th>\n",
              "      <th>n_sales</th>\n",
              "      <th>revenue</th>\n",
              "      <th>avg_sell_price</th>\n",
              "      <th>event</th>\n",
              "      <th>cluster_store</th>\n",
              "      <th>cluster_item</th>\n",
              "    </tr>\n",
              "  </thead>\n",
              "  <tbody>\n",
              "    <tr>\n",
              "      <th>0</th>\n",
              "      <td>ACCESORIES_1_001_BOS_1</td>\n",
              "      <td>0</td>\n",
              "      <td>ACCESORIES_1_001</td>\n",
              "      <td>ACCESORIES</td>\n",
              "      <td>ACCESORIES_1</td>\n",
              "      <td>South_End</td>\n",
              "      <td>BOS_1</td>\n",
              "      <td>Boston</td>\n",
              "      <td>201104</td>\n",
              "      <td>0</td>\n",
              "      <td>0.0</td>\n",
              "      <td>NaN</td>\n",
              "      <td>Without event</td>\n",
              "      <td>1</td>\n",
              "      <td>0</td>\n",
              "    </tr>\n",
              "    <tr>\n",
              "      <th>1</th>\n",
              "      <td>ACCESORIES_1_001_BOS_1</td>\n",
              "      <td>1</td>\n",
              "      <td>ACCESORIES_1_001</td>\n",
              "      <td>ACCESORIES</td>\n",
              "      <td>ACCESORIES_1</td>\n",
              "      <td>South_End</td>\n",
              "      <td>BOS_1</td>\n",
              "      <td>Boston</td>\n",
              "      <td>201105</td>\n",
              "      <td>0</td>\n",
              "      <td>0.0</td>\n",
              "      <td>NaN</td>\n",
              "      <td>SuperBowl</td>\n",
              "      <td>1</td>\n",
              "      <td>0</td>\n",
              "    </tr>\n",
              "    <tr>\n",
              "      <th>2</th>\n",
              "      <td>ACCESORIES_1_001_BOS_1</td>\n",
              "      <td>2</td>\n",
              "      <td>ACCESORIES_1_001</td>\n",
              "      <td>ACCESORIES</td>\n",
              "      <td>ACCESORIES_1</td>\n",
              "      <td>South_End</td>\n",
              "      <td>BOS_1</td>\n",
              "      <td>Boston</td>\n",
              "      <td>201106</td>\n",
              "      <td>0</td>\n",
              "      <td>0.0</td>\n",
              "      <td>NaN</td>\n",
              "      <td>Without event</td>\n",
              "      <td>1</td>\n",
              "      <td>0</td>\n",
              "    </tr>\n",
              "  </tbody>\n",
              "</table>\n",
              "</div>"
            ],
            "text/plain": [
              "                       id  Unnamed: 0              item    category  \\\n",
              "0  ACCESORIES_1_001_BOS_1           0  ACCESORIES_1_001  ACCESORIES   \n",
              "1  ACCESORIES_1_001_BOS_1           1  ACCESORIES_1_001  ACCESORIES   \n",
              "2  ACCESORIES_1_001_BOS_1           2  ACCESORIES_1_001  ACCESORIES   \n",
              "\n",
              "     department      store store_code  region  yearweek  n_sales  revenue  \\\n",
              "0  ACCESORIES_1  South_End      BOS_1  Boston    201104        0      0.0   \n",
              "1  ACCESORIES_1  South_End      BOS_1  Boston    201105        0      0.0   \n",
              "2  ACCESORIES_1  South_End      BOS_1  Boston    201106        0      0.0   \n",
              "\n",
              "   avg_sell_price          event  cluster_store  cluster_item  \n",
              "0             NaN  Without event              1             0  \n",
              "1             NaN      SuperBowl              1             0  \n",
              "2             NaN  Without event              1             0  "
            ]
          },
          "execution_count": 143,
          "metadata": {},
          "output_type": "execute_result"
        }
      ],
      "source": [
        "df_sales = pd.read_parquet(\"df_forecasting.parquet\", engine=\"pyarrow\")\n",
        "print(df_sales.shape)\n",
        "df_sales.head(3)"
      ]
    },
    {
      "cell_type": "code",
      "execution_count": 144,
      "metadata": {
        "id": "Z9wJ0wr9EffN"
      },
      "outputs": [
        {
          "name": "stdout",
          "output_type": "stream",
          "text": [
            "(30490, 2)\n"
          ]
        },
        {
          "data": {
            "text/html": [
              "<div>\n",
              "<style scoped>\n",
              "    .dataframe tbody tr th:only-of-type {\n",
              "        vertical-align: middle;\n",
              "    }\n",
              "\n",
              "    .dataframe tbody tr th {\n",
              "        vertical-align: top;\n",
              "    }\n",
              "\n",
              "    .dataframe thead th {\n",
              "        text-align: right;\n",
              "    }\n",
              "</style>\n",
              "<table border=\"1\" class=\"dataframe\">\n",
              "  <thead>\n",
              "    <tr style=\"text-align: right;\">\n",
              "      <th></th>\n",
              "      <th>id</th>\n",
              "      <th>rmse_mean</th>\n",
              "    </tr>\n",
              "  </thead>\n",
              "  <tbody>\n",
              "    <tr>\n",
              "      <th>0</th>\n",
              "      <td>ACCESORIES_1_001_BOS_1</td>\n",
              "      <td>1.006209</td>\n",
              "    </tr>\n",
              "    <tr>\n",
              "      <th>1</th>\n",
              "      <td>ACCESORIES_1_001_BOS_2</td>\n",
              "      <td>1.031386</td>\n",
              "    </tr>\n",
              "    <tr>\n",
              "      <th>2</th>\n",
              "      <td>ACCESORIES_1_001_BOS_3</td>\n",
              "      <td>1.477416</td>\n",
              "    </tr>\n",
              "  </tbody>\n",
              "</table>\n",
              "</div>"
            ],
            "text/plain": [
              "                       id  rmse_mean\n",
              "0  ACCESORIES_1_001_BOS_1   1.006209\n",
              "1  ACCESORIES_1_001_BOS_2   1.031386\n",
              "2  ACCESORIES_1_001_BOS_3   1.477416"
            ]
          },
          "execution_count": 144,
          "metadata": {},
          "output_type": "execute_result"
        }
      ],
      "source": [
        "df_prediction = pd.read_parquet(\"rmse_por_id.parquet\", engine=\"pyarrow\")\n",
        "print(df_prediction.shape)\n",
        "df_prediction.head(3)"
      ]
    },
    {
      "cell_type": "code",
      "execution_count": 145,
      "metadata": {
        "colab": {
          "base_uri": "https://localhost:8080/",
          "height": 143
        },
        "id": "O3n8t2X_QCtV",
        "outputId": "65d04c89-f658-4a0f-bd47-f7cb9daf95b5"
      },
      "outputs": [
        {
          "data": {
            "text/html": [
              "<div>\n",
              "<style scoped>\n",
              "    .dataframe tbody tr th:only-of-type {\n",
              "        vertical-align: middle;\n",
              "    }\n",
              "\n",
              "    .dataframe tbody tr th {\n",
              "        vertical-align: top;\n",
              "    }\n",
              "\n",
              "    .dataframe thead th {\n",
              "        text-align: right;\n",
              "    }\n",
              "</style>\n",
              "<table border=\"1\" class=\"dataframe\">\n",
              "  <thead>\n",
              "    <tr style=\"text-align: right;\">\n",
              "      <th></th>\n",
              "      <th>id</th>\n",
              "      <th>rmse_mean</th>\n",
              "    </tr>\n",
              "  </thead>\n",
              "  <tbody>\n",
              "    <tr>\n",
              "      <th>0</th>\n",
              "      <td>ACCESORIES_1_001_BOS_1</td>\n",
              "      <td>1.006209</td>\n",
              "    </tr>\n",
              "    <tr>\n",
              "      <th>1</th>\n",
              "      <td>ACCESORIES_1_001_BOS_2</td>\n",
              "      <td>1.031386</td>\n",
              "    </tr>\n",
              "    <tr>\n",
              "      <th>2</th>\n",
              "      <td>ACCESORIES_1_001_BOS_3</td>\n",
              "      <td>1.477416</td>\n",
              "    </tr>\n",
              "  </tbody>\n",
              "</table>\n",
              "</div>"
            ],
            "text/plain": [
              "                       id  rmse_mean\n",
              "0  ACCESORIES_1_001_BOS_1   1.006209\n",
              "1  ACCESORIES_1_001_BOS_2   1.031386\n",
              "2  ACCESORIES_1_001_BOS_3   1.477416"
            ]
          },
          "execution_count": 145,
          "metadata": {},
          "output_type": "execute_result"
        }
      ],
      "source": [
        "df_prediction.head(3)"
      ]
    },
    {
      "cell_type": "code",
      "execution_count": 146,
      "metadata": {
        "colab": {
          "base_uri": "https://localhost:8080/",
          "height": 143
        },
        "id": "TT_YCO4hSpy1",
        "outputId": "2e895c84-9309-42f5-a24b-975680fa8902"
      },
      "outputs": [
        {
          "data": {
            "text/html": [
              "<div>\n",
              "<style scoped>\n",
              "    .dataframe tbody tr th:only-of-type {\n",
              "        vertical-align: middle;\n",
              "    }\n",
              "\n",
              "    .dataframe tbody tr th {\n",
              "        vertical-align: top;\n",
              "    }\n",
              "\n",
              "    .dataframe thead th {\n",
              "        text-align: right;\n",
              "    }\n",
              "</style>\n",
              "<table border=\"1\" class=\"dataframe\">\n",
              "  <thead>\n",
              "    <tr style=\"text-align: right;\">\n",
              "      <th></th>\n",
              "      <th>id</th>\n",
              "      <th>Unnamed: 0</th>\n",
              "      <th>item</th>\n",
              "      <th>category</th>\n",
              "      <th>department</th>\n",
              "      <th>store</th>\n",
              "      <th>store_code</th>\n",
              "      <th>region</th>\n",
              "      <th>yearweek</th>\n",
              "      <th>n_sales</th>\n",
              "      <th>revenue</th>\n",
              "      <th>avg_sell_price</th>\n",
              "      <th>event</th>\n",
              "      <th>cluster_store</th>\n",
              "      <th>cluster_item</th>\n",
              "    </tr>\n",
              "  </thead>\n",
              "  <tbody>\n",
              "    <tr>\n",
              "      <th>0</th>\n",
              "      <td>ACCESORIES_1_001_BOS_1</td>\n",
              "      <td>0</td>\n",
              "      <td>ACCESORIES_1_001</td>\n",
              "      <td>ACCESORIES</td>\n",
              "      <td>ACCESORIES_1</td>\n",
              "      <td>South_End</td>\n",
              "      <td>BOS_1</td>\n",
              "      <td>Boston</td>\n",
              "      <td>201104</td>\n",
              "      <td>0</td>\n",
              "      <td>0.0</td>\n",
              "      <td>NaN</td>\n",
              "      <td>Without event</td>\n",
              "      <td>1</td>\n",
              "      <td>0</td>\n",
              "    </tr>\n",
              "    <tr>\n",
              "      <th>1</th>\n",
              "      <td>ACCESORIES_1_001_BOS_1</td>\n",
              "      <td>1</td>\n",
              "      <td>ACCESORIES_1_001</td>\n",
              "      <td>ACCESORIES</td>\n",
              "      <td>ACCESORIES_1</td>\n",
              "      <td>South_End</td>\n",
              "      <td>BOS_1</td>\n",
              "      <td>Boston</td>\n",
              "      <td>201105</td>\n",
              "      <td>0</td>\n",
              "      <td>0.0</td>\n",
              "      <td>NaN</td>\n",
              "      <td>SuperBowl</td>\n",
              "      <td>1</td>\n",
              "      <td>0</td>\n",
              "    </tr>\n",
              "    <tr>\n",
              "      <th>2</th>\n",
              "      <td>ACCESORIES_1_001_BOS_1</td>\n",
              "      <td>2</td>\n",
              "      <td>ACCESORIES_1_001</td>\n",
              "      <td>ACCESORIES</td>\n",
              "      <td>ACCESORIES_1</td>\n",
              "      <td>South_End</td>\n",
              "      <td>BOS_1</td>\n",
              "      <td>Boston</td>\n",
              "      <td>201106</td>\n",
              "      <td>0</td>\n",
              "      <td>0.0</td>\n",
              "      <td>NaN</td>\n",
              "      <td>Without event</td>\n",
              "      <td>1</td>\n",
              "      <td>0</td>\n",
              "    </tr>\n",
              "  </tbody>\n",
              "</table>\n",
              "</div>"
            ],
            "text/plain": [
              "                       id  Unnamed: 0              item    category  \\\n",
              "0  ACCESORIES_1_001_BOS_1           0  ACCESORIES_1_001  ACCESORIES   \n",
              "1  ACCESORIES_1_001_BOS_1           1  ACCESORIES_1_001  ACCESORIES   \n",
              "2  ACCESORIES_1_001_BOS_1           2  ACCESORIES_1_001  ACCESORIES   \n",
              "\n",
              "     department      store store_code  region  yearweek  n_sales  revenue  \\\n",
              "0  ACCESORIES_1  South_End      BOS_1  Boston    201104        0      0.0   \n",
              "1  ACCESORIES_1  South_End      BOS_1  Boston    201105        0      0.0   \n",
              "2  ACCESORIES_1  South_End      BOS_1  Boston    201106        0      0.0   \n",
              "\n",
              "   avg_sell_price          event  cluster_store  cluster_item  \n",
              "0             NaN  Without event              1             0  \n",
              "1             NaN      SuperBowl              1             0  \n",
              "2             NaN  Without event              1             0  "
            ]
          },
          "execution_count": 146,
          "metadata": {},
          "output_type": "execute_result"
        }
      ],
      "source": [
        "df_sales.head(3)"
      ]
    },
    {
      "cell_type": "markdown",
      "metadata": {
        "id": "NI-pXjhZToKW"
      },
      "source": [
        "## 2. Cálculo del stock de seguridad"
      ]
    },
    {
      "cell_type": "markdown",
      "metadata": {
        "id": "ylXJSsPjT1oO"
      },
      "source": [
        "Para calcular el **stock de seguridad**, utilizaremos el **RMSE** obtenido para cada item y tienda durante la fase de predicción.\n",
        "A partir de este valor, calcularemos el stock de seguridad del producto en cada tienda aplicando la siguiente fórmula:\n",
        "\n",
        "**SS** = Z ×RMSE ×√L\n",
        "​\n",
        "- **Z** es el nivel de servicio deseado, que representa la probabilidad de no tener una rotura de stock durante el tiempo de reposición.\n",
        "Cuanto mayor sea el nivel de servicio (por ejemplo, 95% o 99%), mayor será el valor de Z y, por tanto, el nivel de protección frente a la variabilidad de la demanda.\n",
        "\n",
        "- **L** es el lead time o tiempo de aprovisionamiento, es decir, el número de periodos (en este caso semanas) que transcurren desde que se realiza el pedido hasta que la mercancía llega al almacén o tienda.\n",
        "\n",
        "De esta forma, el stock de seguridad actúa como una reserva adicional que permite absorber la incertidumbre de la demanda y garantizar la disponibilidad del producto incluso en situaciones imprevistas."
      ]
    },
    {
      "cell_type": "code",
      "execution_count": 147,
      "metadata": {
        "id": "vtLfMKO8S_B4"
      },
      "outputs": [],
      "source": [
        "service_level = 0.95\n",
        "z = norm.ppf(service_level)\n",
        "L = 1 #lead time of one week"
      ]
    },
    {
      "cell_type": "code",
      "execution_count": 148,
      "metadata": {
        "id": "1rQMSG0NVdZX"
      },
      "outputs": [],
      "source": [
        "df_prediction[\"SS\"] = z*df_prediction[\"rmse_mean\"] * np.sqrt(L)"
      ]
    },
    {
      "cell_type": "code",
      "execution_count": 149,
      "metadata": {
        "colab": {
          "base_uri": "https://localhost:8080/",
          "height": 424
        },
        "id": "5dWt6K043dic",
        "outputId": "8e88652a-48c0-4df6-ac6a-2328533e8b10"
      },
      "outputs": [
        {
          "data": {
            "text/html": [
              "<div>\n",
              "<style scoped>\n",
              "    .dataframe tbody tr th:only-of-type {\n",
              "        vertical-align: middle;\n",
              "    }\n",
              "\n",
              "    .dataframe tbody tr th {\n",
              "        vertical-align: top;\n",
              "    }\n",
              "\n",
              "    .dataframe thead th {\n",
              "        text-align: right;\n",
              "    }\n",
              "</style>\n",
              "<table border=\"1\" class=\"dataframe\">\n",
              "  <thead>\n",
              "    <tr style=\"text-align: right;\">\n",
              "      <th></th>\n",
              "      <th>id</th>\n",
              "      <th>rmse_mean</th>\n",
              "      <th>SS</th>\n",
              "    </tr>\n",
              "  </thead>\n",
              "  <tbody>\n",
              "    <tr>\n",
              "      <th>0</th>\n",
              "      <td>ACCESORIES_1_001_BOS_1</td>\n",
              "      <td>1.006209</td>\n",
              "      <td>1.655066</td>\n",
              "    </tr>\n",
              "    <tr>\n",
              "      <th>1</th>\n",
              "      <td>ACCESORIES_1_001_BOS_2</td>\n",
              "      <td>1.031386</td>\n",
              "      <td>1.696480</td>\n",
              "    </tr>\n",
              "    <tr>\n",
              "      <th>2</th>\n",
              "      <td>ACCESORIES_1_001_BOS_3</td>\n",
              "      <td>1.477416</td>\n",
              "      <td>2.430132</td>\n",
              "    </tr>\n",
              "    <tr>\n",
              "      <th>3</th>\n",
              "      <td>ACCESORIES_1_001_NYC_1</td>\n",
              "      <td>2.073110</td>\n",
              "      <td>3.409963</td>\n",
              "    </tr>\n",
              "    <tr>\n",
              "      <th>4</th>\n",
              "      <td>ACCESORIES_1_001_NYC_2</td>\n",
              "      <td>2.703180</td>\n",
              "      <td>4.446336</td>\n",
              "    </tr>\n",
              "    <tr>\n",
              "      <th>...</th>\n",
              "      <td>...</td>\n",
              "      <td>...</td>\n",
              "      <td>...</td>\n",
              "    </tr>\n",
              "    <tr>\n",
              "      <th>30485</th>\n",
              "      <td>SUPERMARKET_3_827_NYC_3</td>\n",
              "      <td>5.298480</td>\n",
              "      <td>8.715224</td>\n",
              "    </tr>\n",
              "    <tr>\n",
              "      <th>30486</th>\n",
              "      <td>SUPERMARKET_3_827_NYC_4</td>\n",
              "      <td>4.934147</td>\n",
              "      <td>8.115950</td>\n",
              "    </tr>\n",
              "    <tr>\n",
              "      <th>30487</th>\n",
              "      <td>SUPERMARKET_3_827_PHI_1</td>\n",
              "      <td>9.285024</td>\n",
              "      <td>15.272505</td>\n",
              "    </tr>\n",
              "    <tr>\n",
              "      <th>30488</th>\n",
              "      <td>SUPERMARKET_3_827_PHI_2</td>\n",
              "      <td>7.789934</td>\n",
              "      <td>12.813302</td>\n",
              "    </tr>\n",
              "    <tr>\n",
              "      <th>30489</th>\n",
              "      <td>SUPERMARKET_3_827_PHI_3</td>\n",
              "      <td>2.641361</td>\n",
              "      <td>4.344651</td>\n",
              "    </tr>\n",
              "  </tbody>\n",
              "</table>\n",
              "<p>30490 rows × 3 columns</p>\n",
              "</div>"
            ],
            "text/plain": [
              "                            id  rmse_mean         SS\n",
              "0       ACCESORIES_1_001_BOS_1   1.006209   1.655066\n",
              "1       ACCESORIES_1_001_BOS_2   1.031386   1.696480\n",
              "2       ACCESORIES_1_001_BOS_3   1.477416   2.430132\n",
              "3       ACCESORIES_1_001_NYC_1   2.073110   3.409963\n",
              "4       ACCESORIES_1_001_NYC_2   2.703180   4.446336\n",
              "...                        ...        ...        ...\n",
              "30485  SUPERMARKET_3_827_NYC_3   5.298480   8.715224\n",
              "30486  SUPERMARKET_3_827_NYC_4   4.934147   8.115950\n",
              "30487  SUPERMARKET_3_827_PHI_1   9.285024  15.272505\n",
              "30488  SUPERMARKET_3_827_PHI_2   7.789934  12.813302\n",
              "30489  SUPERMARKET_3_827_PHI_3   2.641361   4.344651\n",
              "\n",
              "[30490 rows x 3 columns]"
            ]
          },
          "execution_count": 149,
          "metadata": {},
          "output_type": "execute_result"
        }
      ],
      "source": [
        "df_prediction"
      ]
    },
    {
      "cell_type": "markdown",
      "metadata": {
        "id": "tzxhLeD4WYN4"
      },
      "source": [
        "## 2. ROP — nivel de pedido (Reorder Point)"
      ]
    },
    {
      "cell_type": "markdown",
      "metadata": {
        "id": "px4ngZOaWg0D"
      },
      "source": [
        "El punto de pedido (ROP) indica el nivel de inventario en el que se debe realizar un nuevo pedido para evitar una rotura de stock, y se calcula de la siguiente manera:\n",
        "\n",
        "𝑅𝑂𝑃 =𝐷𝐿 +𝑆𝑆\n",
        "\n",
        "donde:\n",
        "\n",
        "**DL** = demanda media durante el lead time, que en nuestro caso utilizaremos como la demanda media del artículo en la tienda\n",
        "\n",
        "**SS** = stock de seguridad"
      ]
    },
    {
      "cell_type": "code",
      "execution_count": 150,
      "metadata": {
        "id": "5RS3r68xWIUU"
      },
      "outputs": [],
      "source": [
        "df_sales[\"DL\"] = df_sales.groupby(\"id\")[\"n_sales\"].transform(\"mean\")"
      ]
    },
    {
      "cell_type": "code",
      "execution_count": 151,
      "metadata": {
        "id": "jD01zCu3ebLE"
      },
      "outputs": [],
      "source": [
        "df_sales[\"year\"] = df_sales[\"yearweek\"].astype(str).str[:4].astype(int)"
      ]
    },
    {
      "cell_type": "code",
      "execution_count": 152,
      "metadata": {
        "id": "hCwhhWgGYxaF"
      },
      "outputs": [],
      "source": [
        "df_sales[\"n_sales_sum\"] = df_sales.groupby(\"id\")[\"n_sales\"].transform(\"sum\")"
      ]
    },
    {
      "cell_type": "code",
      "execution_count": 153,
      "metadata": {
        "id": "riEaFhTSj6fe"
      },
      "outputs": [],
      "source": [
        "df_sales[\"n_sales_sum_2015\"] = df_sales[df_sales[\"year\"] == 2015].groupby(\"id\")[\"n_sales\"].transform(\"sum\")"
      ]
    },
    {
      "cell_type": "code",
      "execution_count": 154,
      "metadata": {
        "id": "mfqInP0dmTEy"
      },
      "outputs": [],
      "source": [
        "df_sales = df_sales.dropna(subset=[\"n_sales_sum_2015\"]) #Eliminar las filas nulas que se generan"
      ]
    },
    {
      "cell_type": "code",
      "execution_count": 155,
      "metadata": {
        "id": "_6_UpPSdbH_o"
      },
      "outputs": [],
      "source": [
        "df_sales[\"revenue\"] = df_sales[\"n_sales\"] * df_sales[\"avg_sell_price\"]"
      ]
    },
    {
      "cell_type": "code",
      "execution_count": 156,
      "metadata": {
        "id": "_MZLiaezepca"
      },
      "outputs": [],
      "source": [
        "df_sales[\"revenue_sum\"] = df_sales.groupby(\"id\")[\"revenue\"].transform(\"sum\")"
      ]
    },
    {
      "cell_type": "code",
      "execution_count": 157,
      "metadata": {
        "id": "aZQ3URq8evMI"
      },
      "outputs": [],
      "source": [
        "df_sales[\"avg_price\"] = df_sales[\"revenue_sum\"] / df_sales[\"n_sales_sum\"]"
      ]
    },
    {
      "cell_type": "code",
      "execution_count": 158,
      "metadata": {
        "id": "Cippe7a6dZyJ"
      },
      "outputs": [],
      "source": [
        "columnas = [\"id\",\"item\",\"store_code\",\"category\",\"DL\",\"avg_price\",\"n_sales_sum_2015\"]"
      ]
    },
    {
      "cell_type": "code",
      "execution_count": 159,
      "metadata": {
        "id": "Dvy-wiEZdXMz"
      },
      "outputs": [],
      "source": [
        "df_sales = df_sales[columnas]"
      ]
    },
    {
      "cell_type": "code",
      "execution_count": 160,
      "metadata": {
        "colab": {
          "base_uri": "https://localhost:8080/"
        },
        "id": "xz_MDJgyjSwf",
        "outputId": "e1899804-0c5d-4fc7-d42c-46558087fad5"
      },
      "outputs": [
        {
          "data": {
            "text/plain": [
              "(1615970, 7)"
            ]
          },
          "execution_count": 160,
          "metadata": {},
          "output_type": "execute_result"
        }
      ],
      "source": [
        "df_sales.shape"
      ]
    },
    {
      "cell_type": "code",
      "execution_count": 161,
      "metadata": {
        "id": "Y8ovE2R4foOb"
      },
      "outputs": [],
      "source": [
        "df_sales = df_sales.drop_duplicates()"
      ]
    },
    {
      "cell_type": "code",
      "execution_count": 162,
      "metadata": {
        "colab": {
          "base_uri": "https://localhost:8080/"
        },
        "id": "SWbP36gUjY6z",
        "outputId": "170703ed-8f40-4e74-81e8-5b0f2bd8d164"
      },
      "outputs": [
        {
          "data": {
            "text/plain": [
              "(30490, 7)"
            ]
          },
          "execution_count": 162,
          "metadata": {},
          "output_type": "execute_result"
        }
      ],
      "source": [
        "df_sales.shape"
      ]
    },
    {
      "cell_type": "code",
      "execution_count": 163,
      "metadata": {
        "colab": {
          "base_uri": "https://localhost:8080/"
        },
        "id": "qMjHJYyN305d",
        "outputId": "ce499060-4ab5-47eb-c782-110229d5fe01"
      },
      "outputs": [
        {
          "data": {
            "text/plain": [
              "Index(['id', 'item', 'store_code', 'category', 'DL', 'avg_price',\n",
              "       'n_sales_sum_2015'],\n",
              "      dtype='object')"
            ]
          },
          "execution_count": 163,
          "metadata": {},
          "output_type": "execute_result"
        }
      ],
      "source": [
        "df_sales.columns"
      ]
    },
    {
      "cell_type": "code",
      "execution_count": 164,
      "metadata": {
        "colab": {
          "base_uri": "https://localhost:8080/"
        },
        "id": "HnRp_NQL38Ap",
        "outputId": "d7c5c8b8-f3f1-463b-98fe-bc5cc4b6ed88"
      },
      "outputs": [
        {
          "data": {
            "text/plain": [
              "Index(['id', 'rmse_mean', 'SS'], dtype='object')"
            ]
          },
          "execution_count": 164,
          "metadata": {},
          "output_type": "execute_result"
        }
      ],
      "source": [
        "df_prediction.columns"
      ]
    },
    {
      "cell_type": "code",
      "execution_count": 165,
      "metadata": {
        "id": "bn3uBI33hjGx"
      },
      "outputs": [],
      "source": [
        "df_final = df_sales.merge(\n",
        "    df_prediction[['id','rmse_mean','SS']],  # prendi solo le colonne necessarie\n",
        "    on=['id'],\n",
        "    how='right'  # mantiene tutte le righe di df_prediction\n",
        ")"
      ]
    },
    {
      "cell_type": "code",
      "execution_count": 166,
      "metadata": {
        "id": "LftMzIH1kW_L"
      },
      "outputs": [],
      "source": [
        "df_final[\"ROP\"] = (df_final[\"DL\"] + df_final[\"SS\"]).round(0)"
      ]
    },
    {
      "cell_type": "code",
      "execution_count": 167,
      "metadata": {
        "id": "goLcIhufFldq"
      },
      "outputs": [],
      "source": [
        "df_final[\"SS\"] = df_final[\"SS\"].round(0)"
      ]
    },
    {
      "cell_type": "code",
      "execution_count": 168,
      "metadata": {
        "colab": {
          "base_uri": "https://localhost:8080/",
          "height": 424
        },
        "id": "WveB7izYjXcf",
        "outputId": "19c494c6-b163-4302-af24-064e038ce560"
      },
      "outputs": [
        {
          "data": {
            "text/html": [
              "<div>\n",
              "<style scoped>\n",
              "    .dataframe tbody tr th:only-of-type {\n",
              "        vertical-align: middle;\n",
              "    }\n",
              "\n",
              "    .dataframe tbody tr th {\n",
              "        vertical-align: top;\n",
              "    }\n",
              "\n",
              "    .dataframe thead th {\n",
              "        text-align: right;\n",
              "    }\n",
              "</style>\n",
              "<table border=\"1\" class=\"dataframe\">\n",
              "  <thead>\n",
              "    <tr style=\"text-align: right;\">\n",
              "      <th></th>\n",
              "      <th>id</th>\n",
              "      <th>item</th>\n",
              "      <th>store_code</th>\n",
              "      <th>category</th>\n",
              "      <th>DL</th>\n",
              "      <th>avg_price</th>\n",
              "      <th>n_sales_sum_2015</th>\n",
              "      <th>rmse_mean</th>\n",
              "      <th>SS</th>\n",
              "      <th>ROP</th>\n",
              "    </tr>\n",
              "  </thead>\n",
              "  <tbody>\n",
              "    <tr>\n",
              "      <th>0</th>\n",
              "      <td>ACCESORIES_1_001_BOS_1</td>\n",
              "      <td>ACCESORIES_1_001</td>\n",
              "      <td>BOS_1</td>\n",
              "      <td>ACCESORIES</td>\n",
              "      <td>0.948905</td>\n",
              "      <td>3.642665</td>\n",
              "      <td>87.0</td>\n",
              "      <td>1.006209</td>\n",
              "      <td>2.0</td>\n",
              "      <td>3.0</td>\n",
              "    </tr>\n",
              "    <tr>\n",
              "      <th>1</th>\n",
              "      <td>ACCESORIES_1_001_BOS_2</td>\n",
              "      <td>ACCESORIES_1_001</td>\n",
              "      <td>BOS_2</td>\n",
              "      <td>ACCESORIES</td>\n",
              "      <td>1.467153</td>\n",
              "      <td>5.000999</td>\n",
              "      <td>183.0</td>\n",
              "      <td>1.031386</td>\n",
              "      <td>2.0</td>\n",
              "      <td>3.0</td>\n",
              "    </tr>\n",
              "    <tr>\n",
              "      <th>2</th>\n",
              "      <td>ACCESORIES_1_001_BOS_3</td>\n",
              "      <td>ACCESORIES_1_001</td>\n",
              "      <td>BOS_3</td>\n",
              "      <td>ACCESORIES</td>\n",
              "      <td>1.405109</td>\n",
              "      <td>5.421564</td>\n",
              "      <td>190.0</td>\n",
              "      <td>1.477416</td>\n",
              "      <td>2.0</td>\n",
              "      <td>4.0</td>\n",
              "    </tr>\n",
              "    <tr>\n",
              "      <th>3</th>\n",
              "      <td>ACCESORIES_1_001_NYC_1</td>\n",
              "      <td>ACCESORIES_1_001</td>\n",
              "      <td>NYC_1</td>\n",
              "      <td>ACCESORIES</td>\n",
              "      <td>2.189781</td>\n",
              "      <td>4.119675</td>\n",
              "      <td>225.0</td>\n",
              "      <td>2.073110</td>\n",
              "      <td>3.0</td>\n",
              "      <td>6.0</td>\n",
              "    </tr>\n",
              "    <tr>\n",
              "      <th>4</th>\n",
              "      <td>ACCESORIES_1_001_NYC_2</td>\n",
              "      <td>ACCESORIES_1_001</td>\n",
              "      <td>NYC_2</td>\n",
              "      <td>ACCESORIES</td>\n",
              "      <td>1.978102</td>\n",
              "      <td>3.648421</td>\n",
              "      <td>180.0</td>\n",
              "      <td>2.703180</td>\n",
              "      <td>4.0</td>\n",
              "      <td>6.0</td>\n",
              "    </tr>\n",
              "    <tr>\n",
              "      <th>...</th>\n",
              "      <td>...</td>\n",
              "      <td>...</td>\n",
              "      <td>...</td>\n",
              "      <td>...</td>\n",
              "      <td>...</td>\n",
              "      <td>...</td>\n",
              "      <td>...</td>\n",
              "      <td>...</td>\n",
              "      <td>...</td>\n",
              "      <td>...</td>\n",
              "    </tr>\n",
              "    <tr>\n",
              "      <th>30485</th>\n",
              "      <td>SUPERMARKET_3_827_NYC_3</td>\n",
              "      <td>SUPERMARKET_3_827</td>\n",
              "      <td>NYC_3</td>\n",
              "      <td>SUPERMARKET</td>\n",
              "      <td>9.386861</td>\n",
              "      <td>0.397978</td>\n",
              "      <td>853.0</td>\n",
              "      <td>5.298480</td>\n",
              "      <td>9.0</td>\n",
              "      <td>18.0</td>\n",
              "    </tr>\n",
              "    <tr>\n",
              "      <th>30486</th>\n",
              "      <td>SUPERMARKET_3_827_NYC_4</td>\n",
              "      <td>SUPERMARKET_3_827</td>\n",
              "      <td>NYC_4</td>\n",
              "      <td>SUPERMARKET</td>\n",
              "      <td>0.339416</td>\n",
              "      <td>0.012903</td>\n",
              "      <td>1.0</td>\n",
              "      <td>4.934147</td>\n",
              "      <td>8.0</td>\n",
              "      <td>8.0</td>\n",
              "    </tr>\n",
              "    <tr>\n",
              "      <th>30487</th>\n",
              "      <td>SUPERMARKET_3_827_PHI_1</td>\n",
              "      <td>SUPERMARKET_3_827</td>\n",
              "      <td>PHI_1</td>\n",
              "      <td>SUPERMARKET</td>\n",
              "      <td>9.970803</td>\n",
              "      <td>0.575842</td>\n",
              "      <td>1311.0</td>\n",
              "      <td>9.285024</td>\n",
              "      <td>15.0</td>\n",
              "      <td>25.0</td>\n",
              "    </tr>\n",
              "    <tr>\n",
              "      <th>30488</th>\n",
              "      <td>SUPERMARKET_3_827_PHI_2</td>\n",
              "      <td>SUPERMARKET_3_827</td>\n",
              "      <td>PHI_2</td>\n",
              "      <td>SUPERMARKET</td>\n",
              "      <td>3.164234</td>\n",
              "      <td>0.636678</td>\n",
              "      <td>460.0</td>\n",
              "      <td>7.789934</td>\n",
              "      <td>13.0</td>\n",
              "      <td>16.0</td>\n",
              "    </tr>\n",
              "    <tr>\n",
              "      <th>30489</th>\n",
              "      <td>SUPERMARKET_3_827_PHI_3</td>\n",
              "      <td>SUPERMARKET_3_827</td>\n",
              "      <td>PHI_3</td>\n",
              "      <td>SUPERMARKET</td>\n",
              "      <td>4.850365</td>\n",
              "      <td>0.592325</td>\n",
              "      <td>656.0</td>\n",
              "      <td>2.641361</td>\n",
              "      <td>4.0</td>\n",
              "      <td>9.0</td>\n",
              "    </tr>\n",
              "  </tbody>\n",
              "</table>\n",
              "<p>30490 rows × 10 columns</p>\n",
              "</div>"
            ],
            "text/plain": [
              "                            id               item store_code     category  \\\n",
              "0       ACCESORIES_1_001_BOS_1   ACCESORIES_1_001      BOS_1   ACCESORIES   \n",
              "1       ACCESORIES_1_001_BOS_2   ACCESORIES_1_001      BOS_2   ACCESORIES   \n",
              "2       ACCESORIES_1_001_BOS_3   ACCESORIES_1_001      BOS_3   ACCESORIES   \n",
              "3       ACCESORIES_1_001_NYC_1   ACCESORIES_1_001      NYC_1   ACCESORIES   \n",
              "4       ACCESORIES_1_001_NYC_2   ACCESORIES_1_001      NYC_2   ACCESORIES   \n",
              "...                        ...                ...        ...          ...   \n",
              "30485  SUPERMARKET_3_827_NYC_3  SUPERMARKET_3_827      NYC_3  SUPERMARKET   \n",
              "30486  SUPERMARKET_3_827_NYC_4  SUPERMARKET_3_827      NYC_4  SUPERMARKET   \n",
              "30487  SUPERMARKET_3_827_PHI_1  SUPERMARKET_3_827      PHI_1  SUPERMARKET   \n",
              "30488  SUPERMARKET_3_827_PHI_2  SUPERMARKET_3_827      PHI_2  SUPERMARKET   \n",
              "30489  SUPERMARKET_3_827_PHI_3  SUPERMARKET_3_827      PHI_3  SUPERMARKET   \n",
              "\n",
              "             DL  avg_price  n_sales_sum_2015  rmse_mean    SS   ROP  \n",
              "0      0.948905   3.642665              87.0   1.006209   2.0   3.0  \n",
              "1      1.467153   5.000999             183.0   1.031386   2.0   3.0  \n",
              "2      1.405109   5.421564             190.0   1.477416   2.0   4.0  \n",
              "3      2.189781   4.119675             225.0   2.073110   3.0   6.0  \n",
              "4      1.978102   3.648421             180.0   2.703180   4.0   6.0  \n",
              "...         ...        ...               ...        ...   ...   ...  \n",
              "30485  9.386861   0.397978             853.0   5.298480   9.0  18.0  \n",
              "30486  0.339416   0.012903               1.0   4.934147   8.0   8.0  \n",
              "30487  9.970803   0.575842            1311.0   9.285024  15.0  25.0  \n",
              "30488  3.164234   0.636678             460.0   7.789934  13.0  16.0  \n",
              "30489  4.850365   0.592325             656.0   2.641361   4.0   9.0  \n",
              "\n",
              "[30490 rows x 10 columns]"
            ]
          },
          "execution_count": 168,
          "metadata": {},
          "output_type": "execute_result"
        }
      ],
      "source": [
        "df_final"
      ]
    },
    {
      "cell_type": "markdown",
      "metadata": {
        "id": "AMYI-RxSff0g"
      },
      "source": []
    },
    {
      "cell_type": "markdown",
      "metadata": {
        "id": "MGqhO_yKgqoV"
      },
      "source": [
        "## 3. EOQ (Economic Order Quantity)"
      ]
    },
    {
      "cell_type": "markdown",
      "metadata": {
        "id": "qLqhX8DSguMC"
      },
      "source": [
        "El **EOQ** (Economic Order Quantity) o Cantidad Económica de Pedido es un modelo de gestión de inventarios que ayuda a las empresas a decidir cuántas unidades deben pedir cada vez para mantener los costos lo más bajos posible.\n",
        "\n",
        "El objetivo es encontrar un equilibrio entre:\n",
        "\n",
        "- Pedir demasiado a menudo, lo que aumenta los costos de pedido, y\n",
        "\n",
        "- Pedir grandes cantidades, lo que incrementa los costos de almacenamiento.\n",
        "\n",
        "En resumen, el EOQ permite **optimizar la gestión de inventarios**, garantizando que haya suficiente stock para satisfacer la demanda sin generar costos innecesarios"
      ]
    },
    {
      "cell_type": "markdown",
      "metadata": {
        "id": "imhbK7SHhIV_"
      },
      "source": [
        "La fórmula clásica del EOQ es:\n",
        "\n",
        "𝐸𝑂𝑄 = √(2𝐷⋅SS/𝐻)\n",
        "\n",
        "donde:\n",
        "\n",
        "**D** = demanda anual (unidades por año)\n",
        "\n",
        "**S** = costo por pedido (costo de preparación o de orden)\n",
        "\n",
        "**H** = costo de mantenimiento por unidad al año (holding cost per unit per year)\n",
        "\n",
        "Esta fórmula determina la cantidad óptima de pedido que minimiza el costo total de inventario, es decir, la suma de los costos de pedido y los costos de mantenimiento."
      ]
    },
    {
      "cell_type": "markdown",
      "metadata": {
        "id": "xctY3lcW3x4b"
      },
      "source": [
        "Dado que ni **H** ni **S** están disponibles para este problema, vamos a **suponer sus valores en función de la categoría de los artículos**.\n",
        "En particular, **H**, el costo de mantenimiento en almacén, se calculará como un **porcentaje del precio medio de venta** del producto, de la siguiente manera:\n",
        "\n",
        "* **SUPERMARKET:** 15 % → productos que se venden más rápido, con mayor rotación y menos tiempo en almacén.\n",
        "* **HOME & GARDEN:** 20 % → productos con una rotación menor.\n",
        "* **ACCESORIES:** 25 % → productos que se venden con menos frecuencia, por lo tanto, con un mayor porcentaje de costo en caso de pedido.\n"
      ]
    },
    {
      "cell_type": "code",
      "execution_count": 169,
      "metadata": {
        "id": "Yu4-C-ZzUcfj"
      },
      "outputs": [],
      "source": [
        "h_dict = {\n",
        "    'SUPERMARKET': 0.15,\n",
        "    'HOME_&_GARDEN': 0.20,\n",
        "    'ACCESORIES': 0.25\n",
        "}"
      ]
    },
    {
      "cell_type": "code",
      "execution_count": 170,
      "metadata": {
        "id": "bKT2tcL5UjqM"
      },
      "outputs": [],
      "source": [
        "df_final['H_%'] = df_final['category'].map(h_dict)"
      ]
    },
    {
      "cell_type": "code",
      "execution_count": 171,
      "metadata": {
        "colab": {
          "base_uri": "https://localhost:8080/",
          "height": 206
        },
        "id": "KmwYIYSBVnwN",
        "outputId": "a17ebd16-900e-4016-982d-72fe3609b01c"
      },
      "outputs": [
        {
          "data": {
            "text/html": [
              "<div>\n",
              "<style scoped>\n",
              "    .dataframe tbody tr th:only-of-type {\n",
              "        vertical-align: middle;\n",
              "    }\n",
              "\n",
              "    .dataframe tbody tr th {\n",
              "        vertical-align: top;\n",
              "    }\n",
              "\n",
              "    .dataframe thead th {\n",
              "        text-align: right;\n",
              "    }\n",
              "</style>\n",
              "<table border=\"1\" class=\"dataframe\">\n",
              "  <thead>\n",
              "    <tr style=\"text-align: right;\">\n",
              "      <th></th>\n",
              "      <th>id</th>\n",
              "      <th>item</th>\n",
              "      <th>store_code</th>\n",
              "      <th>category</th>\n",
              "      <th>DL</th>\n",
              "      <th>avg_price</th>\n",
              "      <th>n_sales_sum_2015</th>\n",
              "      <th>rmse_mean</th>\n",
              "      <th>SS</th>\n",
              "      <th>ROP</th>\n",
              "      <th>H_%</th>\n",
              "    </tr>\n",
              "  </thead>\n",
              "  <tbody>\n",
              "    <tr>\n",
              "      <th>0</th>\n",
              "      <td>ACCESORIES_1_001_BOS_1</td>\n",
              "      <td>ACCESORIES_1_001</td>\n",
              "      <td>BOS_1</td>\n",
              "      <td>ACCESORIES</td>\n",
              "      <td>0.948905</td>\n",
              "      <td>3.642665</td>\n",
              "      <td>87.0</td>\n",
              "      <td>1.006209</td>\n",
              "      <td>2.0</td>\n",
              "      <td>3.0</td>\n",
              "      <td>0.25</td>\n",
              "    </tr>\n",
              "    <tr>\n",
              "      <th>1</th>\n",
              "      <td>ACCESORIES_1_001_BOS_2</td>\n",
              "      <td>ACCESORIES_1_001</td>\n",
              "      <td>BOS_2</td>\n",
              "      <td>ACCESORIES</td>\n",
              "      <td>1.467153</td>\n",
              "      <td>5.000999</td>\n",
              "      <td>183.0</td>\n",
              "      <td>1.031386</td>\n",
              "      <td>2.0</td>\n",
              "      <td>3.0</td>\n",
              "      <td>0.25</td>\n",
              "    </tr>\n",
              "    <tr>\n",
              "      <th>2</th>\n",
              "      <td>ACCESORIES_1_001_BOS_3</td>\n",
              "      <td>ACCESORIES_1_001</td>\n",
              "      <td>BOS_3</td>\n",
              "      <td>ACCESORIES</td>\n",
              "      <td>1.405109</td>\n",
              "      <td>5.421564</td>\n",
              "      <td>190.0</td>\n",
              "      <td>1.477416</td>\n",
              "      <td>2.0</td>\n",
              "      <td>4.0</td>\n",
              "      <td>0.25</td>\n",
              "    </tr>\n",
              "    <tr>\n",
              "      <th>3</th>\n",
              "      <td>ACCESORIES_1_001_NYC_1</td>\n",
              "      <td>ACCESORIES_1_001</td>\n",
              "      <td>NYC_1</td>\n",
              "      <td>ACCESORIES</td>\n",
              "      <td>2.189781</td>\n",
              "      <td>4.119675</td>\n",
              "      <td>225.0</td>\n",
              "      <td>2.073110</td>\n",
              "      <td>3.0</td>\n",
              "      <td>6.0</td>\n",
              "      <td>0.25</td>\n",
              "    </tr>\n",
              "    <tr>\n",
              "      <th>4</th>\n",
              "      <td>ACCESORIES_1_001_NYC_2</td>\n",
              "      <td>ACCESORIES_1_001</td>\n",
              "      <td>NYC_2</td>\n",
              "      <td>ACCESORIES</td>\n",
              "      <td>1.978102</td>\n",
              "      <td>3.648421</td>\n",
              "      <td>180.0</td>\n",
              "      <td>2.703180</td>\n",
              "      <td>4.0</td>\n",
              "      <td>6.0</td>\n",
              "      <td>0.25</td>\n",
              "    </tr>\n",
              "  </tbody>\n",
              "</table>\n",
              "</div>"
            ],
            "text/plain": [
              "                       id              item store_code    category        DL  \\\n",
              "0  ACCESORIES_1_001_BOS_1  ACCESORIES_1_001      BOS_1  ACCESORIES  0.948905   \n",
              "1  ACCESORIES_1_001_BOS_2  ACCESORIES_1_001      BOS_2  ACCESORIES  1.467153   \n",
              "2  ACCESORIES_1_001_BOS_3  ACCESORIES_1_001      BOS_3  ACCESORIES  1.405109   \n",
              "3  ACCESORIES_1_001_NYC_1  ACCESORIES_1_001      NYC_1  ACCESORIES  2.189781   \n",
              "4  ACCESORIES_1_001_NYC_2  ACCESORIES_1_001      NYC_2  ACCESORIES  1.978102   \n",
              "\n",
              "   avg_price  n_sales_sum_2015  rmse_mean   SS  ROP   H_%  \n",
              "0   3.642665              87.0   1.006209  2.0  3.0  0.25  \n",
              "1   5.000999             183.0   1.031386  2.0  3.0  0.25  \n",
              "2   5.421564             190.0   1.477416  2.0  4.0  0.25  \n",
              "3   4.119675             225.0   2.073110  3.0  6.0  0.25  \n",
              "4   3.648421             180.0   2.703180  4.0  6.0  0.25  "
            ]
          },
          "execution_count": 171,
          "metadata": {},
          "output_type": "execute_result"
        }
      ],
      "source": [
        "df_final[df_final['category']==\"ACCESORIES\"].head()"
      ]
    },
    {
      "cell_type": "code",
      "execution_count": 172,
      "metadata": {
        "id": "8aLc_z55TtUr"
      },
      "outputs": [],
      "source": [
        "df_final['H']=df_final['H_%']*df_final['avg_price']"
      ]
    },
    {
      "cell_type": "code",
      "execution_count": 173,
      "metadata": {
        "colab": {
          "base_uri": "https://localhost:8080/",
          "height": 424
        },
        "id": "c3BLG1hVWOPX",
        "outputId": "c44996a7-2208-491c-b764-9df310aa0746"
      },
      "outputs": [
        {
          "data": {
            "text/html": [
              "<div>\n",
              "<style scoped>\n",
              "    .dataframe tbody tr th:only-of-type {\n",
              "        vertical-align: middle;\n",
              "    }\n",
              "\n",
              "    .dataframe tbody tr th {\n",
              "        vertical-align: top;\n",
              "    }\n",
              "\n",
              "    .dataframe thead th {\n",
              "        text-align: right;\n",
              "    }\n",
              "</style>\n",
              "<table border=\"1\" class=\"dataframe\">\n",
              "  <thead>\n",
              "    <tr style=\"text-align: right;\">\n",
              "      <th></th>\n",
              "      <th>id</th>\n",
              "      <th>item</th>\n",
              "      <th>store_code</th>\n",
              "      <th>category</th>\n",
              "      <th>DL</th>\n",
              "      <th>avg_price</th>\n",
              "      <th>n_sales_sum_2015</th>\n",
              "      <th>rmse_mean</th>\n",
              "      <th>SS</th>\n",
              "      <th>ROP</th>\n",
              "      <th>H_%</th>\n",
              "      <th>H</th>\n",
              "    </tr>\n",
              "  </thead>\n",
              "  <tbody>\n",
              "    <tr>\n",
              "      <th>0</th>\n",
              "      <td>ACCESORIES_1_001_BOS_1</td>\n",
              "      <td>ACCESORIES_1_001</td>\n",
              "      <td>BOS_1</td>\n",
              "      <td>ACCESORIES</td>\n",
              "      <td>0.948905</td>\n",
              "      <td>3.642665</td>\n",
              "      <td>87.0</td>\n",
              "      <td>1.006209</td>\n",
              "      <td>2.0</td>\n",
              "      <td>3.0</td>\n",
              "      <td>0.25</td>\n",
              "      <td>0.910666</td>\n",
              "    </tr>\n",
              "    <tr>\n",
              "      <th>1</th>\n",
              "      <td>ACCESORIES_1_001_BOS_2</td>\n",
              "      <td>ACCESORIES_1_001</td>\n",
              "      <td>BOS_2</td>\n",
              "      <td>ACCESORIES</td>\n",
              "      <td>1.467153</td>\n",
              "      <td>5.000999</td>\n",
              "      <td>183.0</td>\n",
              "      <td>1.031386</td>\n",
              "      <td>2.0</td>\n",
              "      <td>3.0</td>\n",
              "      <td>0.25</td>\n",
              "      <td>1.250250</td>\n",
              "    </tr>\n",
              "    <tr>\n",
              "      <th>2</th>\n",
              "      <td>ACCESORIES_1_001_BOS_3</td>\n",
              "      <td>ACCESORIES_1_001</td>\n",
              "      <td>BOS_3</td>\n",
              "      <td>ACCESORIES</td>\n",
              "      <td>1.405109</td>\n",
              "      <td>5.421564</td>\n",
              "      <td>190.0</td>\n",
              "      <td>1.477416</td>\n",
              "      <td>2.0</td>\n",
              "      <td>4.0</td>\n",
              "      <td>0.25</td>\n",
              "      <td>1.355391</td>\n",
              "    </tr>\n",
              "    <tr>\n",
              "      <th>3</th>\n",
              "      <td>ACCESORIES_1_001_NYC_1</td>\n",
              "      <td>ACCESORIES_1_001</td>\n",
              "      <td>NYC_1</td>\n",
              "      <td>ACCESORIES</td>\n",
              "      <td>2.189781</td>\n",
              "      <td>4.119675</td>\n",
              "      <td>225.0</td>\n",
              "      <td>2.073110</td>\n",
              "      <td>3.0</td>\n",
              "      <td>6.0</td>\n",
              "      <td>0.25</td>\n",
              "      <td>1.029919</td>\n",
              "    </tr>\n",
              "    <tr>\n",
              "      <th>4</th>\n",
              "      <td>ACCESORIES_1_001_NYC_2</td>\n",
              "      <td>ACCESORIES_1_001</td>\n",
              "      <td>NYC_2</td>\n",
              "      <td>ACCESORIES</td>\n",
              "      <td>1.978102</td>\n",
              "      <td>3.648421</td>\n",
              "      <td>180.0</td>\n",
              "      <td>2.703180</td>\n",
              "      <td>4.0</td>\n",
              "      <td>6.0</td>\n",
              "      <td>0.25</td>\n",
              "      <td>0.912105</td>\n",
              "    </tr>\n",
              "    <tr>\n",
              "      <th>...</th>\n",
              "      <td>...</td>\n",
              "      <td>...</td>\n",
              "      <td>...</td>\n",
              "      <td>...</td>\n",
              "      <td>...</td>\n",
              "      <td>...</td>\n",
              "      <td>...</td>\n",
              "      <td>...</td>\n",
              "      <td>...</td>\n",
              "      <td>...</td>\n",
              "      <td>...</td>\n",
              "      <td>...</td>\n",
              "    </tr>\n",
              "    <tr>\n",
              "      <th>30485</th>\n",
              "      <td>SUPERMARKET_3_827_NYC_3</td>\n",
              "      <td>SUPERMARKET_3_827</td>\n",
              "      <td>NYC_3</td>\n",
              "      <td>SUPERMARKET</td>\n",
              "      <td>9.386861</td>\n",
              "      <td>0.397978</td>\n",
              "      <td>853.0</td>\n",
              "      <td>5.298480</td>\n",
              "      <td>9.0</td>\n",
              "      <td>18.0</td>\n",
              "      <td>0.15</td>\n",
              "      <td>0.059697</td>\n",
              "    </tr>\n",
              "    <tr>\n",
              "      <th>30486</th>\n",
              "      <td>SUPERMARKET_3_827_NYC_4</td>\n",
              "      <td>SUPERMARKET_3_827</td>\n",
              "      <td>NYC_4</td>\n",
              "      <td>SUPERMARKET</td>\n",
              "      <td>0.339416</td>\n",
              "      <td>0.012903</td>\n",
              "      <td>1.0</td>\n",
              "      <td>4.934147</td>\n",
              "      <td>8.0</td>\n",
              "      <td>8.0</td>\n",
              "      <td>0.15</td>\n",
              "      <td>0.001935</td>\n",
              "    </tr>\n",
              "    <tr>\n",
              "      <th>30487</th>\n",
              "      <td>SUPERMARKET_3_827_PHI_1</td>\n",
              "      <td>SUPERMARKET_3_827</td>\n",
              "      <td>PHI_1</td>\n",
              "      <td>SUPERMARKET</td>\n",
              "      <td>9.970803</td>\n",
              "      <td>0.575842</td>\n",
              "      <td>1311.0</td>\n",
              "      <td>9.285024</td>\n",
              "      <td>15.0</td>\n",
              "      <td>25.0</td>\n",
              "      <td>0.15</td>\n",
              "      <td>0.086376</td>\n",
              "    </tr>\n",
              "    <tr>\n",
              "      <th>30488</th>\n",
              "      <td>SUPERMARKET_3_827_PHI_2</td>\n",
              "      <td>SUPERMARKET_3_827</td>\n",
              "      <td>PHI_2</td>\n",
              "      <td>SUPERMARKET</td>\n",
              "      <td>3.164234</td>\n",
              "      <td>0.636678</td>\n",
              "      <td>460.0</td>\n",
              "      <td>7.789934</td>\n",
              "      <td>13.0</td>\n",
              "      <td>16.0</td>\n",
              "      <td>0.15</td>\n",
              "      <td>0.095502</td>\n",
              "    </tr>\n",
              "    <tr>\n",
              "      <th>30489</th>\n",
              "      <td>SUPERMARKET_3_827_PHI_3</td>\n",
              "      <td>SUPERMARKET_3_827</td>\n",
              "      <td>PHI_3</td>\n",
              "      <td>SUPERMARKET</td>\n",
              "      <td>4.850365</td>\n",
              "      <td>0.592325</td>\n",
              "      <td>656.0</td>\n",
              "      <td>2.641361</td>\n",
              "      <td>4.0</td>\n",
              "      <td>9.0</td>\n",
              "      <td>0.15</td>\n",
              "      <td>0.088849</td>\n",
              "    </tr>\n",
              "  </tbody>\n",
              "</table>\n",
              "<p>30490 rows × 12 columns</p>\n",
              "</div>"
            ],
            "text/plain": [
              "                            id               item store_code     category  \\\n",
              "0       ACCESORIES_1_001_BOS_1   ACCESORIES_1_001      BOS_1   ACCESORIES   \n",
              "1       ACCESORIES_1_001_BOS_2   ACCESORIES_1_001      BOS_2   ACCESORIES   \n",
              "2       ACCESORIES_1_001_BOS_3   ACCESORIES_1_001      BOS_3   ACCESORIES   \n",
              "3       ACCESORIES_1_001_NYC_1   ACCESORIES_1_001      NYC_1   ACCESORIES   \n",
              "4       ACCESORIES_1_001_NYC_2   ACCESORIES_1_001      NYC_2   ACCESORIES   \n",
              "...                        ...                ...        ...          ...   \n",
              "30485  SUPERMARKET_3_827_NYC_3  SUPERMARKET_3_827      NYC_3  SUPERMARKET   \n",
              "30486  SUPERMARKET_3_827_NYC_4  SUPERMARKET_3_827      NYC_4  SUPERMARKET   \n",
              "30487  SUPERMARKET_3_827_PHI_1  SUPERMARKET_3_827      PHI_1  SUPERMARKET   \n",
              "30488  SUPERMARKET_3_827_PHI_2  SUPERMARKET_3_827      PHI_2  SUPERMARKET   \n",
              "30489  SUPERMARKET_3_827_PHI_3  SUPERMARKET_3_827      PHI_3  SUPERMARKET   \n",
              "\n",
              "             DL  avg_price  n_sales_sum_2015  rmse_mean    SS   ROP   H_%  \\\n",
              "0      0.948905   3.642665              87.0   1.006209   2.0   3.0  0.25   \n",
              "1      1.467153   5.000999             183.0   1.031386   2.0   3.0  0.25   \n",
              "2      1.405109   5.421564             190.0   1.477416   2.0   4.0  0.25   \n",
              "3      2.189781   4.119675             225.0   2.073110   3.0   6.0  0.25   \n",
              "4      1.978102   3.648421             180.0   2.703180   4.0   6.0  0.25   \n",
              "...         ...        ...               ...        ...   ...   ...   ...   \n",
              "30485  9.386861   0.397978             853.0   5.298480   9.0  18.0  0.15   \n",
              "30486  0.339416   0.012903               1.0   4.934147   8.0   8.0  0.15   \n",
              "30487  9.970803   0.575842            1311.0   9.285024  15.0  25.0  0.15   \n",
              "30488  3.164234   0.636678             460.0   7.789934  13.0  16.0  0.15   \n",
              "30489  4.850365   0.592325             656.0   2.641361   4.0   9.0  0.15   \n",
              "\n",
              "              H  \n",
              "0      0.910666  \n",
              "1      1.250250  \n",
              "2      1.355391  \n",
              "3      1.029919  \n",
              "4      0.912105  \n",
              "...         ...  \n",
              "30485  0.059697  \n",
              "30486  0.001935  \n",
              "30487  0.086376  \n",
              "30488  0.095502  \n",
              "30489  0.088849  \n",
              "\n",
              "[30490 rows x 12 columns]"
            ]
          },
          "execution_count": 173,
          "metadata": {},
          "output_type": "execute_result"
        }
      ],
      "source": [
        "df_final"
      ]
    },
    {
      "cell_type": "markdown",
      "metadata": {
        "id": "yN1by0ApR0OX"
      },
      "source": [
        "https://www.ascendsoftware.com/blog/the-average-cost-of-processing-a-purchase-order-a-detailed-analysis?utm_source=chatgpt.com"
      ]
    },
    {
      "cell_type": "markdown",
      "metadata": {
        "id": "qExjUZhETvjt"
      },
      "source": [
        "https://it.scribd.com/document/459659976/2019-HCKT-Metrics-Procurement-Cost-v1?utm_source=chatgpt.com"
      ]
    },
    {
      "cell_type": "markdown",
      "metadata": {
        "id": "IAMz9JfmTwG3"
      },
      "source": [
        "Dado que el costo por pedido (S) no está disponible, supondremos tres escenarios posibles aplicables a todas las categorías de productos:\n",
        "\n",
        "Escenario mínimo: 10 € por pedido → procesos muy automatizados o simples.\n",
        "\n",
        "Escenario medio: 25 € por pedido → nivel medio de digitalización y complejidad.\n",
        "\n",
        "Escenario alto: 40 € por pedido → procesos manuales o con mayor carga administrativa y de control."
      ]
    },
    {
      "cell_type": "code",
      "execution_count": 174,
      "metadata": {
        "id": "KfTTrbtSWXAc"
      },
      "outputs": [],
      "source": [
        "df_final[\"S1\"] = 10\n",
        "df_final[\"S2\"] = 20\n",
        "df_final[\"S3\"] = 40"
      ]
    },
    {
      "cell_type": "code",
      "execution_count": 175,
      "metadata": {
        "colab": {
          "base_uri": "https://localhost:8080/",
          "height": 424
        },
        "id": "Yqr6DMWDWkig",
        "outputId": "88e9fc32-10a2-4ac0-87c1-b24a01b205d0"
      },
      "outputs": [
        {
          "data": {
            "text/html": [
              "<div>\n",
              "<style scoped>\n",
              "    .dataframe tbody tr th:only-of-type {\n",
              "        vertical-align: middle;\n",
              "    }\n",
              "\n",
              "    .dataframe tbody tr th {\n",
              "        vertical-align: top;\n",
              "    }\n",
              "\n",
              "    .dataframe thead th {\n",
              "        text-align: right;\n",
              "    }\n",
              "</style>\n",
              "<table border=\"1\" class=\"dataframe\">\n",
              "  <thead>\n",
              "    <tr style=\"text-align: right;\">\n",
              "      <th></th>\n",
              "      <th>id</th>\n",
              "      <th>item</th>\n",
              "      <th>store_code</th>\n",
              "      <th>category</th>\n",
              "      <th>DL</th>\n",
              "      <th>avg_price</th>\n",
              "      <th>n_sales_sum_2015</th>\n",
              "      <th>rmse_mean</th>\n",
              "      <th>SS</th>\n",
              "      <th>ROP</th>\n",
              "      <th>H_%</th>\n",
              "      <th>H</th>\n",
              "      <th>S1</th>\n",
              "      <th>S2</th>\n",
              "      <th>S3</th>\n",
              "    </tr>\n",
              "  </thead>\n",
              "  <tbody>\n",
              "    <tr>\n",
              "      <th>0</th>\n",
              "      <td>ACCESORIES_1_001_BOS_1</td>\n",
              "      <td>ACCESORIES_1_001</td>\n",
              "      <td>BOS_1</td>\n",
              "      <td>ACCESORIES</td>\n",
              "      <td>0.948905</td>\n",
              "      <td>3.642665</td>\n",
              "      <td>87.0</td>\n",
              "      <td>1.006209</td>\n",
              "      <td>2.0</td>\n",
              "      <td>3.0</td>\n",
              "      <td>0.25</td>\n",
              "      <td>0.910666</td>\n",
              "      <td>10</td>\n",
              "      <td>20</td>\n",
              "      <td>40</td>\n",
              "    </tr>\n",
              "    <tr>\n",
              "      <th>1</th>\n",
              "      <td>ACCESORIES_1_001_BOS_2</td>\n",
              "      <td>ACCESORIES_1_001</td>\n",
              "      <td>BOS_2</td>\n",
              "      <td>ACCESORIES</td>\n",
              "      <td>1.467153</td>\n",
              "      <td>5.000999</td>\n",
              "      <td>183.0</td>\n",
              "      <td>1.031386</td>\n",
              "      <td>2.0</td>\n",
              "      <td>3.0</td>\n",
              "      <td>0.25</td>\n",
              "      <td>1.250250</td>\n",
              "      <td>10</td>\n",
              "      <td>20</td>\n",
              "      <td>40</td>\n",
              "    </tr>\n",
              "    <tr>\n",
              "      <th>2</th>\n",
              "      <td>ACCESORIES_1_001_BOS_3</td>\n",
              "      <td>ACCESORIES_1_001</td>\n",
              "      <td>BOS_3</td>\n",
              "      <td>ACCESORIES</td>\n",
              "      <td>1.405109</td>\n",
              "      <td>5.421564</td>\n",
              "      <td>190.0</td>\n",
              "      <td>1.477416</td>\n",
              "      <td>2.0</td>\n",
              "      <td>4.0</td>\n",
              "      <td>0.25</td>\n",
              "      <td>1.355391</td>\n",
              "      <td>10</td>\n",
              "      <td>20</td>\n",
              "      <td>40</td>\n",
              "    </tr>\n",
              "    <tr>\n",
              "      <th>3</th>\n",
              "      <td>ACCESORIES_1_001_NYC_1</td>\n",
              "      <td>ACCESORIES_1_001</td>\n",
              "      <td>NYC_1</td>\n",
              "      <td>ACCESORIES</td>\n",
              "      <td>2.189781</td>\n",
              "      <td>4.119675</td>\n",
              "      <td>225.0</td>\n",
              "      <td>2.073110</td>\n",
              "      <td>3.0</td>\n",
              "      <td>6.0</td>\n",
              "      <td>0.25</td>\n",
              "      <td>1.029919</td>\n",
              "      <td>10</td>\n",
              "      <td>20</td>\n",
              "      <td>40</td>\n",
              "    </tr>\n",
              "    <tr>\n",
              "      <th>4</th>\n",
              "      <td>ACCESORIES_1_001_NYC_2</td>\n",
              "      <td>ACCESORIES_1_001</td>\n",
              "      <td>NYC_2</td>\n",
              "      <td>ACCESORIES</td>\n",
              "      <td>1.978102</td>\n",
              "      <td>3.648421</td>\n",
              "      <td>180.0</td>\n",
              "      <td>2.703180</td>\n",
              "      <td>4.0</td>\n",
              "      <td>6.0</td>\n",
              "      <td>0.25</td>\n",
              "      <td>0.912105</td>\n",
              "      <td>10</td>\n",
              "      <td>20</td>\n",
              "      <td>40</td>\n",
              "    </tr>\n",
              "    <tr>\n",
              "      <th>...</th>\n",
              "      <td>...</td>\n",
              "      <td>...</td>\n",
              "      <td>...</td>\n",
              "      <td>...</td>\n",
              "      <td>...</td>\n",
              "      <td>...</td>\n",
              "      <td>...</td>\n",
              "      <td>...</td>\n",
              "      <td>...</td>\n",
              "      <td>...</td>\n",
              "      <td>...</td>\n",
              "      <td>...</td>\n",
              "      <td>...</td>\n",
              "      <td>...</td>\n",
              "      <td>...</td>\n",
              "    </tr>\n",
              "    <tr>\n",
              "      <th>30485</th>\n",
              "      <td>SUPERMARKET_3_827_NYC_3</td>\n",
              "      <td>SUPERMARKET_3_827</td>\n",
              "      <td>NYC_3</td>\n",
              "      <td>SUPERMARKET</td>\n",
              "      <td>9.386861</td>\n",
              "      <td>0.397978</td>\n",
              "      <td>853.0</td>\n",
              "      <td>5.298480</td>\n",
              "      <td>9.0</td>\n",
              "      <td>18.0</td>\n",
              "      <td>0.15</td>\n",
              "      <td>0.059697</td>\n",
              "      <td>10</td>\n",
              "      <td>20</td>\n",
              "      <td>40</td>\n",
              "    </tr>\n",
              "    <tr>\n",
              "      <th>30486</th>\n",
              "      <td>SUPERMARKET_3_827_NYC_4</td>\n",
              "      <td>SUPERMARKET_3_827</td>\n",
              "      <td>NYC_4</td>\n",
              "      <td>SUPERMARKET</td>\n",
              "      <td>0.339416</td>\n",
              "      <td>0.012903</td>\n",
              "      <td>1.0</td>\n",
              "      <td>4.934147</td>\n",
              "      <td>8.0</td>\n",
              "      <td>8.0</td>\n",
              "      <td>0.15</td>\n",
              "      <td>0.001935</td>\n",
              "      <td>10</td>\n",
              "      <td>20</td>\n",
              "      <td>40</td>\n",
              "    </tr>\n",
              "    <tr>\n",
              "      <th>30487</th>\n",
              "      <td>SUPERMARKET_3_827_PHI_1</td>\n",
              "      <td>SUPERMARKET_3_827</td>\n",
              "      <td>PHI_1</td>\n",
              "      <td>SUPERMARKET</td>\n",
              "      <td>9.970803</td>\n",
              "      <td>0.575842</td>\n",
              "      <td>1311.0</td>\n",
              "      <td>9.285024</td>\n",
              "      <td>15.0</td>\n",
              "      <td>25.0</td>\n",
              "      <td>0.15</td>\n",
              "      <td>0.086376</td>\n",
              "      <td>10</td>\n",
              "      <td>20</td>\n",
              "      <td>40</td>\n",
              "    </tr>\n",
              "    <tr>\n",
              "      <th>30488</th>\n",
              "      <td>SUPERMARKET_3_827_PHI_2</td>\n",
              "      <td>SUPERMARKET_3_827</td>\n",
              "      <td>PHI_2</td>\n",
              "      <td>SUPERMARKET</td>\n",
              "      <td>3.164234</td>\n",
              "      <td>0.636678</td>\n",
              "      <td>460.0</td>\n",
              "      <td>7.789934</td>\n",
              "      <td>13.0</td>\n",
              "      <td>16.0</td>\n",
              "      <td>0.15</td>\n",
              "      <td>0.095502</td>\n",
              "      <td>10</td>\n",
              "      <td>20</td>\n",
              "      <td>40</td>\n",
              "    </tr>\n",
              "    <tr>\n",
              "      <th>30489</th>\n",
              "      <td>SUPERMARKET_3_827_PHI_3</td>\n",
              "      <td>SUPERMARKET_3_827</td>\n",
              "      <td>PHI_3</td>\n",
              "      <td>SUPERMARKET</td>\n",
              "      <td>4.850365</td>\n",
              "      <td>0.592325</td>\n",
              "      <td>656.0</td>\n",
              "      <td>2.641361</td>\n",
              "      <td>4.0</td>\n",
              "      <td>9.0</td>\n",
              "      <td>0.15</td>\n",
              "      <td>0.088849</td>\n",
              "      <td>10</td>\n",
              "      <td>20</td>\n",
              "      <td>40</td>\n",
              "    </tr>\n",
              "  </tbody>\n",
              "</table>\n",
              "<p>30490 rows × 15 columns</p>\n",
              "</div>"
            ],
            "text/plain": [
              "                            id               item store_code     category  \\\n",
              "0       ACCESORIES_1_001_BOS_1   ACCESORIES_1_001      BOS_1   ACCESORIES   \n",
              "1       ACCESORIES_1_001_BOS_2   ACCESORIES_1_001      BOS_2   ACCESORIES   \n",
              "2       ACCESORIES_1_001_BOS_3   ACCESORIES_1_001      BOS_3   ACCESORIES   \n",
              "3       ACCESORIES_1_001_NYC_1   ACCESORIES_1_001      NYC_1   ACCESORIES   \n",
              "4       ACCESORIES_1_001_NYC_2   ACCESORIES_1_001      NYC_2   ACCESORIES   \n",
              "...                        ...                ...        ...          ...   \n",
              "30485  SUPERMARKET_3_827_NYC_3  SUPERMARKET_3_827      NYC_3  SUPERMARKET   \n",
              "30486  SUPERMARKET_3_827_NYC_4  SUPERMARKET_3_827      NYC_4  SUPERMARKET   \n",
              "30487  SUPERMARKET_3_827_PHI_1  SUPERMARKET_3_827      PHI_1  SUPERMARKET   \n",
              "30488  SUPERMARKET_3_827_PHI_2  SUPERMARKET_3_827      PHI_2  SUPERMARKET   \n",
              "30489  SUPERMARKET_3_827_PHI_3  SUPERMARKET_3_827      PHI_3  SUPERMARKET   \n",
              "\n",
              "             DL  avg_price  n_sales_sum_2015  rmse_mean    SS   ROP   H_%  \\\n",
              "0      0.948905   3.642665              87.0   1.006209   2.0   3.0  0.25   \n",
              "1      1.467153   5.000999             183.0   1.031386   2.0   3.0  0.25   \n",
              "2      1.405109   5.421564             190.0   1.477416   2.0   4.0  0.25   \n",
              "3      2.189781   4.119675             225.0   2.073110   3.0   6.0  0.25   \n",
              "4      1.978102   3.648421             180.0   2.703180   4.0   6.0  0.25   \n",
              "...         ...        ...               ...        ...   ...   ...   ...   \n",
              "30485  9.386861   0.397978             853.0   5.298480   9.0  18.0  0.15   \n",
              "30486  0.339416   0.012903               1.0   4.934147   8.0   8.0  0.15   \n",
              "30487  9.970803   0.575842            1311.0   9.285024  15.0  25.0  0.15   \n",
              "30488  3.164234   0.636678             460.0   7.789934  13.0  16.0  0.15   \n",
              "30489  4.850365   0.592325             656.0   2.641361   4.0   9.0  0.15   \n",
              "\n",
              "              H  S1  S2  S3  \n",
              "0      0.910666  10  20  40  \n",
              "1      1.250250  10  20  40  \n",
              "2      1.355391  10  20  40  \n",
              "3      1.029919  10  20  40  \n",
              "4      0.912105  10  20  40  \n",
              "...         ...  ..  ..  ..  \n",
              "30485  0.059697  10  20  40  \n",
              "30486  0.001935  10  20  40  \n",
              "30487  0.086376  10  20  40  \n",
              "30488  0.095502  10  20  40  \n",
              "30489  0.088849  10  20  40  \n",
              "\n",
              "[30490 rows x 15 columns]"
            ]
          },
          "execution_count": 175,
          "metadata": {},
          "output_type": "execute_result"
        }
      ],
      "source": [
        "df_final"
      ]
    },
    {
      "cell_type": "code",
      "execution_count": 176,
      "metadata": {
        "id": "SDARxxROXEez"
      },
      "outputs": [],
      "source": [
        "df_final['EOQ1'] = np.round(np.sqrt((2 * df_final['DL'] * df_final['S1']) / df_final['H']))\n",
        "df_final['EOQ2'] = np.round(np.sqrt((2 * df_final['DL'] * df_final['S2']) / df_final['H']))\n",
        "df_final['EOQ3'] = np.round(np.sqrt((2 * df_final['DL'] * df_final['S3']) / df_final['H']))"
      ]
    },
    {
      "cell_type": "code",
      "execution_count": 177,
      "metadata": {
        "colab": {
          "base_uri": "https://localhost:8080/",
          "height": 444
        },
        "id": "PwwUWWshXFVq",
        "outputId": "2691e3df-7199-4ab1-96b3-cd3e50a0ff6a"
      },
      "outputs": [
        {
          "data": {
            "text/html": [
              "<div>\n",
              "<style scoped>\n",
              "    .dataframe tbody tr th:only-of-type {\n",
              "        vertical-align: middle;\n",
              "    }\n",
              "\n",
              "    .dataframe tbody tr th {\n",
              "        vertical-align: top;\n",
              "    }\n",
              "\n",
              "    .dataframe thead th {\n",
              "        text-align: right;\n",
              "    }\n",
              "</style>\n",
              "<table border=\"1\" class=\"dataframe\">\n",
              "  <thead>\n",
              "    <tr style=\"text-align: right;\">\n",
              "      <th></th>\n",
              "      <th>id</th>\n",
              "      <th>item</th>\n",
              "      <th>store_code</th>\n",
              "      <th>category</th>\n",
              "      <th>DL</th>\n",
              "      <th>avg_price</th>\n",
              "      <th>n_sales_sum_2015</th>\n",
              "      <th>rmse_mean</th>\n",
              "      <th>SS</th>\n",
              "      <th>ROP</th>\n",
              "      <th>H_%</th>\n",
              "      <th>H</th>\n",
              "      <th>S1</th>\n",
              "      <th>S2</th>\n",
              "      <th>S3</th>\n",
              "      <th>EOQ1</th>\n",
              "      <th>EOQ2</th>\n",
              "      <th>EOQ3</th>\n",
              "    </tr>\n",
              "  </thead>\n",
              "  <tbody>\n",
              "  </tbody>\n",
              "</table>\n",
              "</div>"
            ],
            "text/plain": [
              "Empty DataFrame\n",
              "Columns: [id, item, store_code, category, DL, avg_price, n_sales_sum_2015, rmse_mean, SS, ROP, H_%, H, S1, S2, S3, EOQ1, EOQ2, EOQ3]\n",
              "Index: []"
            ]
          },
          "execution_count": 177,
          "metadata": {},
          "output_type": "execute_result"
        }
      ],
      "source": [
        "df_final[df_final['rmse_mean']> 50].head(150)"
      ]
    },
    {
      "cell_type": "code",
      "execution_count": 178,
      "metadata": {},
      "outputs": [],
      "source": [
        "df_final.to_csv(\"df_final_SS.csv\", index=False, encoding=\"utf-8\")"
      ]
    }
  ],
  "metadata": {
    "colab": {
      "provenance": []
    },
    "kernelspec": {
      "display_name": "Python 3",
      "name": "python3"
    },
    "language_info": {
      "name": "python"
    }
  },
  "nbformat": 4,
  "nbformat_minor": 0
}
